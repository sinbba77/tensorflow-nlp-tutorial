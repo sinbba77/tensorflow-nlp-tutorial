{
  "nbformat": 4,
  "nbformat_minor": 0,
  "metadata": {
    "colab": {
      "name": "eng/kor_word2vec.ipynb",
      "provenance": [],
      "machine_shape": "hm"
    },
    "kernelspec": {
      "name": "python3",
      "display_name": "Python 3"
    },
    "language_info": {
      "name": "python"
    },
    "accelerator": "GPU"
  },
  "cells": [
    {
      "cell_type": "markdown",
      "source": [
        "이 자료는 위키독스 딥 러닝을 이용한 자연어 처리 입문의 영어/한국어 Word2Vec 실습 학습 자료입니다.  \n",
        "링크 : https://wikidocs.net/50739"
      ],
      "metadata": {
        "id": "IzrLHh2YP1Ge"
      }
    },
    {
      "cell_type": "code",
      "source": [
        "!pip install gensim"
      ],
      "metadata": {
        "colab": {
          "base_uri": "https://localhost:8080/"
        },
        "id": "esCfWVvum-31",
        "outputId": "f35e2eaa-5748-4aa8-8951-c5cfcd511b79"
      },
      "execution_count": 2,
      "outputs": [
        {
          "output_type": "stream",
          "name": "stdout",
          "text": [
            "Collecting gensim\n",
            "  Downloading gensim-4.4.0-cp312-cp312-manylinux_2_24_x86_64.manylinux_2_28_x86_64.whl.metadata (8.4 kB)\n",
            "Requirement already satisfied: numpy>=1.18.5 in /usr/local/lib/python3.12/dist-packages (from gensim) (2.0.2)\n",
            "Requirement already satisfied: scipy>=1.7.0 in /usr/local/lib/python3.12/dist-packages (from gensim) (1.16.2)\n",
            "Requirement already satisfied: smart_open>=1.8.1 in /usr/local/lib/python3.12/dist-packages (from gensim) (7.4.0)\n",
            "Requirement already satisfied: wrapt in /usr/local/lib/python3.12/dist-packages (from smart_open>=1.8.1->gensim) (2.0.0)\n",
            "Downloading gensim-4.4.0-cp312-cp312-manylinux_2_24_x86_64.manylinux_2_28_x86_64.whl (27.9 MB)\n",
            "\u001b[2K   \u001b[90m━━━━━━━━━━━━━━━━━━━━━━━━━━━━━━━━━━━━━━━━\u001b[0m \u001b[32m27.9/27.9 MB\u001b[0m \u001b[31m69.0 MB/s\u001b[0m eta \u001b[36m0:00:00\u001b[0m\n",
            "\u001b[?25hInstalling collected packages: gensim\n",
            "Successfully installed gensim-4.4.0\n"
          ]
        }
      ]
    },
    {
      "cell_type": "code",
      "metadata": {
        "colab": {
          "base_uri": "https://localhost:8080/",
          "height": 35
        },
        "id": "7sdE4eTfLW8b",
        "outputId": "88eafcc1-0553-43a8-e09d-e9e97b8acf02"
      },
      "source": [
        "import gensim\n",
        "gensim.__version__"
      ],
      "execution_count": 3,
      "outputs": [
        {
          "output_type": "execute_result",
          "data": {
            "text/plain": [
              "'4.4.0'"
            ],
            "application/vnd.google.colaboratory.intrinsic+json": {
              "type": "string"
            }
          },
          "metadata": {},
          "execution_count": 3
        }
      ]
    },
    {
      "cell_type": "code",
      "metadata": {
        "colab": {
          "base_uri": "https://localhost:8080/"
        },
        "id": "58G-gTlKL_Na",
        "outputId": "46b51d85-beca-4968-b2f4-f9643e989778"
      },
      "source": [
        "!pip install konlpy"
      ],
      "execution_count": 4,
      "outputs": [
        {
          "output_type": "stream",
          "name": "stdout",
          "text": [
            "Collecting konlpy\n",
            "  Downloading konlpy-0.6.0-py2.py3-none-any.whl.metadata (1.9 kB)\n",
            "Collecting JPype1>=0.7.0 (from konlpy)\n",
            "  Downloading jpype1-1.6.0-cp312-cp312-manylinux2014_x86_64.manylinux_2_17_x86_64.whl.metadata (5.0 kB)\n",
            "Requirement already satisfied: lxml>=4.1.0 in /usr/local/lib/python3.12/dist-packages (from konlpy) (5.4.0)\n",
            "Requirement already satisfied: numpy>=1.6 in /usr/local/lib/python3.12/dist-packages (from konlpy) (2.0.2)\n",
            "Requirement already satisfied: packaging in /usr/local/lib/python3.12/dist-packages (from JPype1>=0.7.0->konlpy) (25.0)\n",
            "Downloading konlpy-0.6.0-py2.py3-none-any.whl (19.4 MB)\n",
            "\u001b[2K   \u001b[90m━━━━━━━━━━━━━━━━━━━━━━━━━━━━━━━━━━━━━━━━\u001b[0m \u001b[32m19.4/19.4 MB\u001b[0m \u001b[31m88.1 MB/s\u001b[0m eta \u001b[36m0:00:00\u001b[0m\n",
            "\u001b[?25hDownloading jpype1-1.6.0-cp312-cp312-manylinux2014_x86_64.manylinux_2_17_x86_64.whl (495 kB)\n",
            "\u001b[2K   \u001b[90m━━━━━━━━━━━━━━━━━━━━━━━━━━━━━━━━━━━━━━━━\u001b[0m \u001b[32m495.9/495.9 kB\u001b[0m \u001b[31m43.1 MB/s\u001b[0m eta \u001b[36m0:00:00\u001b[0m\n",
            "\u001b[?25hInstalling collected packages: JPype1, konlpy\n",
            "Successfully installed JPype1-1.6.0 konlpy-0.6.0\n"
          ]
        }
      ]
    },
    {
      "cell_type": "markdown",
      "metadata": {
        "id": "pvthgGw5LHNW"
      },
      "source": [
        "# 1. 영어 Word2Vec"
      ]
    },
    {
      "cell_type": "code",
      "metadata": {
        "colab": {
          "base_uri": "https://localhost:8080/"
        },
        "id": "coVrVWEcLCIG",
        "outputId": "ac576db4-79da-415a-9909-42d1c5bdc76f"
      },
      "source": [
        "import nltk\n",
        "nltk.download('punkt')\n",
        "nltk.download('punkt_tab')"
      ],
      "execution_count": 9,
      "outputs": [
        {
          "output_type": "stream",
          "name": "stderr",
          "text": [
            "[nltk_data] Downloading package punkt to /root/nltk_data...\n",
            "[nltk_data]   Package punkt is already up-to-date!\n",
            "[nltk_data] Downloading package punkt_tab to /root/nltk_data...\n",
            "[nltk_data]   Unzipping tokenizers/punkt_tab.zip.\n"
          ]
        },
        {
          "output_type": "execute_result",
          "data": {
            "text/plain": [
              "True"
            ]
          },
          "metadata": {},
          "execution_count": 9
        }
      ]
    },
    {
      "cell_type": "code",
      "metadata": {
        "id": "60AESIY1LFrN"
      },
      "source": [
        "import urllib.request\n",
        "import zipfile\n",
        "from lxml import etree\n",
        "import re\n",
        "from nltk.tokenize import word_tokenize, sent_tokenize"
      ],
      "execution_count": 10,
      "outputs": []
    },
    {
      "cell_type": "code",
      "source": [
        "# 데이터 다운로드\n",
        "urllib.request.urlretrieve(\"https://raw.githubusercontent.com/ukairia777/tensorflow-nlp-tutorial/main/09.%20Word%20Embedding/dataset/ted_en-20160408.xml\", filename=\"ted_en-20160408.xml\")"
      ],
      "metadata": {
        "colab": {
          "base_uri": "https://localhost:8080/"
        },
        "id": "NCc2n8IUi06u",
        "outputId": "d65c3f6c-fc14-418e-cdf9-b93b624db7b4"
      },
      "execution_count": 11,
      "outputs": [
        {
          "output_type": "execute_result",
          "data": {
            "text/plain": [
              "('ted_en-20160408.xml', <http.client.HTTPMessage at 0x7d5a40f15f70>)"
            ]
          },
          "metadata": {},
          "execution_count": 11
        }
      ]
    },
    {
      "cell_type": "code",
      "metadata": {
        "id": "HZI00TbvLKCI"
      },
      "source": [
        "targetXML = open('ted_en-20160408.xml', 'r', encoding='UTF8')\n",
        "target_text = etree.parse(targetXML)\n",
        "\n",
        "# xml 파일로부터 <content>와 </content> 사이의 내용만 가져온다.\n",
        "parse_text = '\\n'.join(target_text.xpath('//content/text()'))\n",
        "\n",
        "# 정규 표현식의 sub 모듈을 통해 content 중간에 등장하는 (Audio), (Laughter) 등의 배경음 부분을 제거.\n",
        "# 해당 코드는 괄호로 구성된 내용을 제거.\n",
        "content_text = re.sub(r'\\([^)]*\\)', '', parse_text)\n",
        "\n",
        "# 입력 코퍼스에 대해서 NLTK를 이용하여 문장 토큰화를 수행.\n",
        "sent_text = sent_tokenize(content_text)\n",
        "\n",
        "# 각 문장에 대해서 구두점을 제거하고, 대문자를 소문자로 변환.\n",
        "normalized_text = []\n",
        "for string in sent_text:\n",
        "     tokens = re.sub(r\"[^a-z0-9]+\", \" \", string.lower())\n",
        "     normalized_text.append(tokens)\n",
        "\n",
        "# 각 문장에 대해서 NLTK를 이용하여 단어 토큰화를 수행.\n",
        "result = [word_tokenize(sentence) for sentence in normalized_text]"
      ],
      "execution_count": 12,
      "outputs": []
    },
    {
      "cell_type": "code",
      "metadata": {
        "colab": {
          "base_uri": "https://localhost:8080/"
        },
        "id": "WUqiRKAmLLg9",
        "outputId": "ff2cad47-d91d-473e-e9ac-440ba113adfd"
      },
      "source": [
        "print('총 샘플의 개수 : {}'.format(len(result)))"
      ],
      "execution_count": 13,
      "outputs": [
        {
          "output_type": "stream",
          "name": "stdout",
          "text": [
            "총 샘플의 개수 : 273424\n"
          ]
        }
      ]
    },
    {
      "cell_type": "code",
      "metadata": {
        "colab": {
          "base_uri": "https://localhost:8080/"
        },
        "id": "VA1Kr9UkLMfL",
        "outputId": "23ae3ed8-c95e-4a40-c4ca-cf0e60358491"
      },
      "source": [
        "# 샘플 3개만 출력\n",
        "for line in result[:3]:\n",
        "    print(line)"
      ],
      "execution_count": 14,
      "outputs": [
        {
          "output_type": "stream",
          "name": "stdout",
          "text": [
            "['here', 'are', 'two', 'reasons', 'companies', 'fail', 'they', 'only', 'do', 'more', 'of', 'the', 'same', 'or', 'they', 'only', 'do', 'what', 's', 'new']\n",
            "['to', 'me', 'the', 'real', 'real', 'solution', 'to', 'quality', 'growth', 'is', 'figuring', 'out', 'the', 'balance', 'between', 'two', 'activities', 'exploration', 'and', 'exploitation']\n",
            "['both', 'are', 'necessary', 'but', 'it', 'can', 'be', 'too', 'much', 'of', 'a', 'good', 'thing']\n"
          ]
        }
      ]
    },
    {
      "cell_type": "code",
      "metadata": {
        "id": "Y3gtDRcnLw3V"
      },
      "source": [
        "# Word2Vec 라이브러리 불러오기\n",
        "from gensim.models import Word2Vec\n",
        "from gensim.models import KeyedVectors   # (사전 학습된 임베딩을 불러올 때 사용하는 클래스)"
      ],
      "execution_count": 17,
      "outputs": []
    },
    {
      "cell_type": "code",
      "metadata": {
        "id": "2dx0cWsTLRsI"
      },
      "source": [
        "# 🧠 Word2Vec 모델 생성\n",
        "# sentences=result : 학습에 사용할 문장들의 리스트 (토큰화된 문장들)\n",
        "# vector_size=100  : 각 단어를 100차원 벡터로 표현 (벡터의 크기)\n",
        "# window=5         : 중심 단어 기준으로 앞뒤 5개 단어까지를 ‘문맥(context)’으로 사용\n",
        "# min_count=5      : 전체 데이터에서 등장 빈도가 5회 미만인 단어는 무시\n",
        "# workers=4        : 동시에 학습할 CPU 코어 개수 (병렬 처리 속도 향상)\n",
        "# sg=0             : 학습 방식 선택 (0=CBOW, 1=Skip-Gram)\n",
        "#                    - CBOW: 주변 단어로 중심 단어를 예측 (빠르고 일반적)\n",
        "#                    - Skip-Gram: 중심 단어로 주변 단어를 예측 (희귀 단어에 강함)\n",
        "\n",
        "model = Word2Vec(\n",
        "    sentences=result,   # 학습 데이터 (토큰화된 문장)\n",
        "    vector_size=100,    # 임베딩 벡터 크기 (100차원)\n",
        "    window=5,           # 주변 단어 범위 (좌우 5개)\n",
        "    min_count=5,        # 최소 등장 횟수 기준\n",
        "    workers=4,          # CPU 코어 수\n",
        "    sg=0                # 0=CBOW / 1=Skip-Gram\n",
        ")\n",
        "\n",
        "# ✅ 이렇게 학습된 model은 각 단어의 의미를 벡터 형태로 표현함\n",
        "# 예: model.wv['apple'] → \"apple\" 단어의 100차원 벡터 값 확인 가능\n",
        "# 예: model.wv.most_similar('king') → \"king\"과 의미가 비슷한 단어 출력"
      ],
      "execution_count": 18,
      "outputs": []
    },
    {
      "cell_type": "markdown",
      "metadata": {
        "id": "BWD9seUhLl2_"
      },
      "source": [
        "여기서 Word2Vec의 인자는 다음과 같습니다.  \n",
        "\n",
        "* vector_size = 워드 벡터의 특징 값. 즉, 임베딩 된 벡터의 차원.\n",
        "* window = 컨텍스트 윈도우 크기\n",
        "* min_count = 단어 최소 빈도 수 제한 (빈도가 적은 단어들은 학습하지 않는다.)\n",
        "* workers = 학습을 위한 프로세스 수\n",
        "* sg = 0은 CBOW, 1은 Skip-gram."
      ]
    },
    {
      "cell_type": "code",
      "metadata": {
        "colab": {
          "base_uri": "https://localhost:8080/"
        },
        "id": "LVmN8NWjLkdg",
        "outputId": "d155de61-6ba0-4bd1-a807-67f68798e4a4"
      },
      "source": [
        "# ✅ 'man'과 의미적으로 비슷한 단어들을 찾아보는 코드 예시\n",
        "\n",
        "# model.wv.most_similar(\"man\")\n",
        "# → 학습된 Word2Vec 모델에서 'man' 단어와 가장 비슷한 단어들을 찾아줌\n",
        "# → 단어 벡터 간의 '코사인 유사도(cosine similarity)'를 이용해 유사도 계산\n",
        "# → 결과는 [(단어, 유사도점수), (단어, 유사도점수), ...] 형태로 반환됨\n",
        "\n",
        "model_result = model.wv.most_similar(\"man\")   # 'man'과 비슷한 단어 10개 기본 출력\n",
        "print(model_result)  # 결과 출력"
      ],
      "execution_count": 19,
      "outputs": [
        {
          "output_type": "stream",
          "name": "stdout",
          "text": [
            "[('woman', 0.8413154482841492), ('guy', 0.8322019577026367), ('boy', 0.7783945202827454), ('lady', 0.7750139832496643), ('girl', 0.7536750435829163), ('gentleman', 0.7308338284492493), ('soldier', 0.7267463207244873), ('kid', 0.7195513248443604), ('poet', 0.6948344111442566), ('surgeon', 0.6776267290115356)]\n"
          ]
        }
      ]
    },
    {
      "cell_type": "code",
      "metadata": {
        "id": "oKMWDIDJLsL7"
      },
      "source": [
        "# 💾 Word2Vec 모델 저장 및 불러오기 예제\n",
        "\n",
        "# ----------------------------------------------------------\n",
        "# ✅ 1. 학습된 Word2Vec 모델을 파일로 저장하기\n",
        "# ----------------------------------------------------------\n",
        "# model.wv.save_word2vec_format('eng_w2v')\n",
        "# - 현재 학습된 모델의 단어 벡터(임베딩 정보)를 'eng_w2v'라는 파일로 저장\n",
        "# - 확장자는 생략 가능하지만, 일반적으로 .txt 또는 .vec 형태로 저장함\n",
        "#   예: 'eng_w2v.txt' 또는 'eng_w2v.vec'\n",
        "# - 저장된 파일에는 각 단어와 그 단어의 벡터값(숫자)이 들어 있음\n",
        "model.wv.save_word2vec_format('eng_w2v')\n",
        "\n",
        "# ----------------------------------------------------------\n",
        "# ✅ 2. 저장된 모델 불러오기\n",
        "# ----------------------------------------------------------\n",
        "# KeyedVectors.load_word2vec_format(\"eng_w2v\")\n",
        "# - 위에서 저장한 'eng_w2v' 파일을 불러와서 다시 사용할 수 있도록 로드\n",
        "# - 학습을 새로 하지 않고, 기존 임베딩 값을 그대로 불러와 사용할 수 있음\n",
        "loaded_model = KeyedVectors.load_word2vec_format(\"eng_w2v\")"
      ],
      "execution_count": 20,
      "outputs": []
    },
    {
      "cell_type": "code",
      "metadata": {
        "colab": {
          "base_uri": "https://localhost:8080/"
        },
        "id": "kFXguci-L2Gz",
        "outputId": "3c05e199-4d86-497c-f421-82ad25a4a58c"
      },
      "source": [
        "# ----------------------------------------------------------\n",
        "# ✅ 3. 불러온 모델 사용 예시\n",
        "# ----------------------------------------------------------\n",
        "# loaded_model.most_similar(\"king\")  → 'king'과 의미적으로 비슷한 단어 출력\n",
        "# loaded_model['apple']              → 'apple' 단어의 벡터값 확인\n",
        "\n",
        "model_result = loaded_model.most_similar(\"man\")\n",
        "print(model_result)"
      ],
      "execution_count": 21,
      "outputs": [
        {
          "output_type": "stream",
          "name": "stdout",
          "text": [
            "[('woman', 0.8413154482841492), ('guy', 0.8322019577026367), ('boy', 0.7783945202827454), ('lady', 0.7750139832496643), ('girl', 0.7536750435829163), ('gentleman', 0.7308338284492493), ('soldier', 0.7267463207244873), ('kid', 0.7195513248443604), ('poet', 0.6948344111442566), ('surgeon', 0.6776267290115356)]\n"
          ]
        }
      ]
    },
    {
      "cell_type": "markdown",
      "metadata": {
        "id": "OGHAvgHcL6rC"
      },
      "source": [
        "# 2. 한국어 Word2Vec"
      ]
    },
    {
      "cell_type": "code",
      "metadata": {
        "id": "EaMole3_L8bI"
      },
      "source": [
        "# 📦 1. 데이터 처리와 시각화를 위한 기본 라이브러리 불러오기\n",
        "import pandas as pd                 # pandas: 표(테이블) 형태의 데이터 다루기 (엑셀처럼)\n",
        "import matplotlib.pyplot as plt     # matplotlib: 그래프, 시각화 도구\n",
        "\n",
        "# 🌐 2. 웹에서 데이터 파일을 다운로드하기 위한 모듈\n",
        "import urllib.request               # 인터넷에서 파일을 가져올 때 사용 (예: 데이터셋 다운로드)\n",
        "\n",
        "# 📊 3. 작업 진행 상황을 시각적으로 보여주는 진행바(progress bar)\n",
        "from tqdm import tqdm               # for문 실행 시 진행 상태를 한눈에 볼 수 있음 (예: 데이터 전처리 시)\n",
        "\n",
        "# 🧠 4. Word2Vec 모델 불러오기\n",
        "from gensim.models.word2vec import Word2Vec\n",
        "# gensim: 자연어처리(NLP)에서 자주 쓰이는 라이브러리\n",
        "# Word2Vec: 단어를 벡터(숫자 형태)로 변환해주는 모델\n",
        "\n",
        "# 🇰🇷 5. 한국어 형태소 분석기 불러오기\n",
        "from konlpy.tag import Okt          # konlpy: 한국어 형태소 분석용 라이브러리\n",
        "# Okt(Open Korean Text): 문장을 단어 단위(형태소)로 분리하는 기능\n",
        "# 예: \"자연어처리는 재미있어요\" → ['자연어', '처리', '는', '재미있', '어요']"
      ],
      "execution_count": 22,
      "outputs": []
    },
    {
      "cell_type": "code",
      "metadata": {
        "colab": {
          "base_uri": "https://localhost:8080/"
        },
        "id": "SfIOkE-2L9OA",
        "outputId": "87b32cec-def4-4d56-fe3a-23075651c47f"
      },
      "source": [
        "# 🌐 네이버 영화 리뷰 데이터(nsmc)를 인터넷에서 다운로드하는 코드\n",
        "\n",
        "# urllib.request.urlretrieve( \"URL\", filename=\"저장할_파일명\" )\n",
        "# → 지정한 인터넷 주소(URL)의 파일을 다운로드하여, 내 컴퓨터에 원하는 파일 이름으로 저장함\n",
        "\n",
        "urllib.request.urlretrieve(\n",
        "    \"https://raw.githubusercontent.com/e9t/nsmc/master/ratings.txt\",  # 다운로드할 파일의 인터넷 주소\n",
        "    filename=\"ratings.txt\"  # 내 컴퓨터에 저장할 이름 (현재 폴더에 ratings.txt로 저장)\n",
        ")\n",
        "\n",
        "# ✅ 실행 결과:\n",
        "# 현재 작업 폴더(코드 실행한 위치)에 \"ratings.txt\" 파일이 생성됩니다.\n",
        "# 이 파일은 네이버 영화 리뷰(문장 + 감정 라벨)가 들어 있는 텍스트 데이터입니다."
      ],
      "execution_count": 23,
      "outputs": [
        {
          "output_type": "execute_result",
          "data": {
            "text/plain": [
              "('ratings.txt', <http.client.HTTPMessage at 0x7d5a22ef4c50>)"
            ]
          },
          "metadata": {},
          "execution_count": 23
        }
      ]
    },
    {
      "cell_type": "code",
      "metadata": {
        "id": "l7tZNSAtMI0e"
      },
      "source": [
        "# 📘 네이버 영화 리뷰 데이터 파일(ratings.txt)을 불러와서 데이터프레임 형태로 읽기\n",
        "\n",
        "import pandas as pd  # (pandas가 이미 import 되어 있어야 함)\n",
        "\n",
        "# pd.read_table('파일명')\n",
        "# → 탭(tab)으로 구분된 텍스트 파일을 불러오는 함수\n",
        "#   CSV 파일을 읽을 때는 read_csv()를, 탭으로 구분된 파일은 read_table()을 사용함\n",
        "\n",
        "train_data = pd.read_table('ratings.txt')\n",
        "\n",
        "# ✅ 실행 결과:\n",
        "# train_data 변수 안에 네이버 영화 리뷰 데이터가 표(DataFrame) 형태로 저장됩니다.\n",
        "# 예시)\n",
        "#      id                                   document  label\n",
        "# 0  9976970                   아 더빙.. 진짜 짜증나네요 목소리      0\n",
        "# 1  3819312       흠...포스터보고 초딩영화줄....오버연기조차 가볍지 않네      1\n",
        "# 2 10265843                                 너무재밓었다그래서보는것을추천한다      0\n",
        "# ...\n",
        "\n",
        "# ▶ 각 컬럼 설명:\n",
        "# - id: 리뷰의 고유 번호\n",
        "# - document: 리뷰 내용(문장)\n",
        "# - label: 감정 라벨 (0 = 부정, 1 = 긍정)"
      ],
      "execution_count": 24,
      "outputs": []
    },
    {
      "cell_type": "code",
      "metadata": {
        "colab": {
          "base_uri": "https://localhost:8080/",
          "height": 206
        },
        "id": "e1vT3b5-MJAX",
        "outputId": "6ec713a6-462f-4f84-f441-9b5b43a4dd7a"
      },
      "source": [
        "train_data[:5] # 상위 5개 출력"
      ],
      "execution_count": null,
      "outputs": [
        {
          "output_type": "execute_result",
          "data": {
            "text/plain": [
              "         id                                           document  label\n",
              "0   8112052                                어릴때보고 지금다시봐도 재밌어요ㅋㅋ      1\n",
              "1   8132799  디자인을 배우는 학생으로, 외국디자이너와 그들이 일군 전통을 통해 발전해가는 문화산...      1\n",
              "2   4655635               폴리스스토리 시리즈는 1부터 뉴까지 버릴께 하나도 없음.. 최고.      1\n",
              "3   9251303  와.. 연기가 진짜 개쩔구나.. 지루할거라고 생각했는데 몰입해서 봤다.. 그래 이런...      1\n",
              "4  10067386                        안개 자욱한 밤하늘에 떠 있는 초승달 같은 영화.      1"
            ],
            "text/html": [
              "\n",
              "  <div id=\"df-bf1f5e25-fdf7-4320-9037-6a02a4853a3d\" class=\"colab-df-container\">\n",
              "    <div>\n",
              "<style scoped>\n",
              "    .dataframe tbody tr th:only-of-type {\n",
              "        vertical-align: middle;\n",
              "    }\n",
              "\n",
              "    .dataframe tbody tr th {\n",
              "        vertical-align: top;\n",
              "    }\n",
              "\n",
              "    .dataframe thead th {\n",
              "        text-align: right;\n",
              "    }\n",
              "</style>\n",
              "<table border=\"1\" class=\"dataframe\">\n",
              "  <thead>\n",
              "    <tr style=\"text-align: right;\">\n",
              "      <th></th>\n",
              "      <th>id</th>\n",
              "      <th>document</th>\n",
              "      <th>label</th>\n",
              "    </tr>\n",
              "  </thead>\n",
              "  <tbody>\n",
              "    <tr>\n",
              "      <th>0</th>\n",
              "      <td>8112052</td>\n",
              "      <td>어릴때보고 지금다시봐도 재밌어요ㅋㅋ</td>\n",
              "      <td>1</td>\n",
              "    </tr>\n",
              "    <tr>\n",
              "      <th>1</th>\n",
              "      <td>8132799</td>\n",
              "      <td>디자인을 배우는 학생으로, 외국디자이너와 그들이 일군 전통을 통해 발전해가는 문화산...</td>\n",
              "      <td>1</td>\n",
              "    </tr>\n",
              "    <tr>\n",
              "      <th>2</th>\n",
              "      <td>4655635</td>\n",
              "      <td>폴리스스토리 시리즈는 1부터 뉴까지 버릴께 하나도 없음.. 최고.</td>\n",
              "      <td>1</td>\n",
              "    </tr>\n",
              "    <tr>\n",
              "      <th>3</th>\n",
              "      <td>9251303</td>\n",
              "      <td>와.. 연기가 진짜 개쩔구나.. 지루할거라고 생각했는데 몰입해서 봤다.. 그래 이런...</td>\n",
              "      <td>1</td>\n",
              "    </tr>\n",
              "    <tr>\n",
              "      <th>4</th>\n",
              "      <td>10067386</td>\n",
              "      <td>안개 자욱한 밤하늘에 떠 있는 초승달 같은 영화.</td>\n",
              "      <td>1</td>\n",
              "    </tr>\n",
              "  </tbody>\n",
              "</table>\n",
              "</div>\n",
              "    <div class=\"colab-df-buttons\">\n",
              "\n",
              "  <div class=\"colab-df-container\">\n",
              "    <button class=\"colab-df-convert\" onclick=\"convertToInteractive('df-bf1f5e25-fdf7-4320-9037-6a02a4853a3d')\"\n",
              "            title=\"Convert this dataframe to an interactive table.\"\n",
              "            style=\"display:none;\">\n",
              "\n",
              "  <svg xmlns=\"http://www.w3.org/2000/svg\" height=\"24px\" viewBox=\"0 -960 960 960\">\n",
              "    <path d=\"M120-120v-720h720v720H120Zm60-500h600v-160H180v160Zm220 220h160v-160H400v160Zm0 220h160v-160H400v160ZM180-400h160v-160H180v160Zm440 0h160v-160H620v160ZM180-180h160v-160H180v160Zm440 0h160v-160H620v160Z\"/>\n",
              "  </svg>\n",
              "    </button>\n",
              "\n",
              "  <style>\n",
              "    .colab-df-container {\n",
              "      display:flex;\n",
              "      gap: 12px;\n",
              "    }\n",
              "\n",
              "    .colab-df-convert {\n",
              "      background-color: #E8F0FE;\n",
              "      border: none;\n",
              "      border-radius: 50%;\n",
              "      cursor: pointer;\n",
              "      display: none;\n",
              "      fill: #1967D2;\n",
              "      height: 32px;\n",
              "      padding: 0 0 0 0;\n",
              "      width: 32px;\n",
              "    }\n",
              "\n",
              "    .colab-df-convert:hover {\n",
              "      background-color: #E2EBFA;\n",
              "      box-shadow: 0px 1px 2px rgba(60, 64, 67, 0.3), 0px 1px 3px 1px rgba(60, 64, 67, 0.15);\n",
              "      fill: #174EA6;\n",
              "    }\n",
              "\n",
              "    .colab-df-buttons div {\n",
              "      margin-bottom: 4px;\n",
              "    }\n",
              "\n",
              "    [theme=dark] .colab-df-convert {\n",
              "      background-color: #3B4455;\n",
              "      fill: #D2E3FC;\n",
              "    }\n",
              "\n",
              "    [theme=dark] .colab-df-convert:hover {\n",
              "      background-color: #434B5C;\n",
              "      box-shadow: 0px 1px 3px 1px rgba(0, 0, 0, 0.15);\n",
              "      filter: drop-shadow(0px 1px 2px rgba(0, 0, 0, 0.3));\n",
              "      fill: #FFFFFF;\n",
              "    }\n",
              "  </style>\n",
              "\n",
              "    <script>\n",
              "      const buttonEl =\n",
              "        document.querySelector('#df-bf1f5e25-fdf7-4320-9037-6a02a4853a3d button.colab-df-convert');\n",
              "      buttonEl.style.display =\n",
              "        google.colab.kernel.accessAllowed ? 'block' : 'none';\n",
              "\n",
              "      async function convertToInteractive(key) {\n",
              "        const element = document.querySelector('#df-bf1f5e25-fdf7-4320-9037-6a02a4853a3d');\n",
              "        const dataTable =\n",
              "          await google.colab.kernel.invokeFunction('convertToInteractive',\n",
              "                                                    [key], {});\n",
              "        if (!dataTable) return;\n",
              "\n",
              "        const docLinkHtml = 'Like what you see? Visit the ' +\n",
              "          '<a target=\"_blank\" href=https://colab.research.google.com/notebooks/data_table.ipynb>data table notebook</a>'\n",
              "          + ' to learn more about interactive tables.';\n",
              "        element.innerHTML = '';\n",
              "        dataTable['output_type'] = 'display_data';\n",
              "        await google.colab.output.renderOutput(dataTable, element);\n",
              "        const docLink = document.createElement('div');\n",
              "        docLink.innerHTML = docLinkHtml;\n",
              "        element.appendChild(docLink);\n",
              "      }\n",
              "    </script>\n",
              "  </div>\n",
              "\n",
              "\n",
              "<div id=\"df-21618726-8448-4552-8881-704ebe9d11a7\">\n",
              "  <button class=\"colab-df-quickchart\" onclick=\"quickchart('df-21618726-8448-4552-8881-704ebe9d11a7')\"\n",
              "            title=\"Suggest charts.\"\n",
              "            style=\"display:none;\">\n",
              "\n",
              "<svg xmlns=\"http://www.w3.org/2000/svg\" height=\"24px\"viewBox=\"0 0 24 24\"\n",
              "     width=\"24px\">\n",
              "    <g>\n",
              "        <path d=\"M19 3H5c-1.1 0-2 .9-2 2v14c0 1.1.9 2 2 2h14c1.1 0 2-.9 2-2V5c0-1.1-.9-2-2-2zM9 17H7v-7h2v7zm4 0h-2V7h2v10zm4 0h-2v-4h2v4z\"/>\n",
              "    </g>\n",
              "</svg>\n",
              "  </button>\n",
              "\n",
              "<style>\n",
              "  .colab-df-quickchart {\n",
              "      --bg-color: #E8F0FE;\n",
              "      --fill-color: #1967D2;\n",
              "      --hover-bg-color: #E2EBFA;\n",
              "      --hover-fill-color: #174EA6;\n",
              "      --disabled-fill-color: #AAA;\n",
              "      --disabled-bg-color: #DDD;\n",
              "  }\n",
              "\n",
              "  [theme=dark] .colab-df-quickchart {\n",
              "      --bg-color: #3B4455;\n",
              "      --fill-color: #D2E3FC;\n",
              "      --hover-bg-color: #434B5C;\n",
              "      --hover-fill-color: #FFFFFF;\n",
              "      --disabled-bg-color: #3B4455;\n",
              "      --disabled-fill-color: #666;\n",
              "  }\n",
              "\n",
              "  .colab-df-quickchart {\n",
              "    background-color: var(--bg-color);\n",
              "    border: none;\n",
              "    border-radius: 50%;\n",
              "    cursor: pointer;\n",
              "    display: none;\n",
              "    fill: var(--fill-color);\n",
              "    height: 32px;\n",
              "    padding: 0;\n",
              "    width: 32px;\n",
              "  }\n",
              "\n",
              "  .colab-df-quickchart:hover {\n",
              "    background-color: var(--hover-bg-color);\n",
              "    box-shadow: 0 1px 2px rgba(60, 64, 67, 0.3), 0 1px 3px 1px rgba(60, 64, 67, 0.15);\n",
              "    fill: var(--button-hover-fill-color);\n",
              "  }\n",
              "\n",
              "  .colab-df-quickchart-complete:disabled,\n",
              "  .colab-df-quickchart-complete:disabled:hover {\n",
              "    background-color: var(--disabled-bg-color);\n",
              "    fill: var(--disabled-fill-color);\n",
              "    box-shadow: none;\n",
              "  }\n",
              "\n",
              "  .colab-df-spinner {\n",
              "    border: 2px solid var(--fill-color);\n",
              "    border-color: transparent;\n",
              "    border-bottom-color: var(--fill-color);\n",
              "    animation:\n",
              "      spin 1s steps(1) infinite;\n",
              "  }\n",
              "\n",
              "  @keyframes spin {\n",
              "    0% {\n",
              "      border-color: transparent;\n",
              "      border-bottom-color: var(--fill-color);\n",
              "      border-left-color: var(--fill-color);\n",
              "    }\n",
              "    20% {\n",
              "      border-color: transparent;\n",
              "      border-left-color: var(--fill-color);\n",
              "      border-top-color: var(--fill-color);\n",
              "    }\n",
              "    30% {\n",
              "      border-color: transparent;\n",
              "      border-left-color: var(--fill-color);\n",
              "      border-top-color: var(--fill-color);\n",
              "      border-right-color: var(--fill-color);\n",
              "    }\n",
              "    40% {\n",
              "      border-color: transparent;\n",
              "      border-right-color: var(--fill-color);\n",
              "      border-top-color: var(--fill-color);\n",
              "    }\n",
              "    60% {\n",
              "      border-color: transparent;\n",
              "      border-right-color: var(--fill-color);\n",
              "    }\n",
              "    80% {\n",
              "      border-color: transparent;\n",
              "      border-right-color: var(--fill-color);\n",
              "      border-bottom-color: var(--fill-color);\n",
              "    }\n",
              "    90% {\n",
              "      border-color: transparent;\n",
              "      border-bottom-color: var(--fill-color);\n",
              "    }\n",
              "  }\n",
              "</style>\n",
              "\n",
              "  <script>\n",
              "    async function quickchart(key) {\n",
              "      const quickchartButtonEl =\n",
              "        document.querySelector('#' + key + ' button');\n",
              "      quickchartButtonEl.disabled = true;  // To prevent multiple clicks.\n",
              "      quickchartButtonEl.classList.add('colab-df-spinner');\n",
              "      try {\n",
              "        const charts = await google.colab.kernel.invokeFunction(\n",
              "            'suggestCharts', [key], {});\n",
              "      } catch (error) {\n",
              "        console.error('Error during call to suggestCharts:', error);\n",
              "      }\n",
              "      quickchartButtonEl.classList.remove('colab-df-spinner');\n",
              "      quickchartButtonEl.classList.add('colab-df-quickchart-complete');\n",
              "    }\n",
              "    (() => {\n",
              "      let quickchartButtonEl =\n",
              "        document.querySelector('#df-21618726-8448-4552-8881-704ebe9d11a7 button');\n",
              "      quickchartButtonEl.style.display =\n",
              "        google.colab.kernel.accessAllowed ? 'block' : 'none';\n",
              "    })();\n",
              "  </script>\n",
              "</div>\n",
              "    </div>\n",
              "  </div>\n"
            ]
          },
          "metadata": {},
          "execution_count": 18
        }
      ]
    },
    {
      "cell_type": "code",
      "metadata": {
        "colab": {
          "base_uri": "https://localhost:8080/"
        },
        "id": "hgoCGCRZMJu_",
        "outputId": "fcbe966f-4958-42bf-c1af-d55f06d6bbfe"
      },
      "source": [
        "# 🧾 전체 리뷰 개수(행 개수)를 출력하는 코드\n",
        "\n",
        "# len(train_data)\n",
        "# → train_data 데이터프레임에 들어 있는 전체 행(row)의 개수를 구함\n",
        "#   즉, '리뷰가 몇 개 있는지'를 알려줌\n",
        "\n",
        "print('리뷰 개수 :', len(train_data))\n",
        "\n",
        "# ✅ 실행 예시:\n",
        "# 리뷰 개수 : 200000\n",
        "# (데이터셋에는 약 20만 개의 영화 리뷰가 들어 있음)"
      ],
      "execution_count": 25,
      "outputs": [
        {
          "output_type": "stream",
          "name": "stdout",
          "text": [
            "리뷰 개수 : 200000\n"
          ]
        }
      ]
    },
    {
      "cell_type": "code",
      "metadata": {
        "colab": {
          "base_uri": "https://localhost:8080/"
        },
        "id": "wu8cR1VRMMwP",
        "outputId": "2e37766d-9ea6-4918-f984-6693af97fb68"
      },
      "source": [
        "# 🧩 데이터 안에 비어 있는 값(NULL, NaN)이 있는지 확인하는 코드\n",
        "\n",
        "# train_data.isnull()\n",
        "# → 각 셀(데이터 항목)이 비어 있으면 True, 값이 있으면 False로 표시함\n",
        "\n",
        "# train_data.isnull().values\n",
        "# → True/False 값들을 numpy 배열 형태로 변환\n",
        "\n",
        "# train_data.isnull().values.any()\n",
        "# → 배열 안에 True가 하나라도 있으면 True 반환 (즉, 비어 있는 데이터가 존재함)\n",
        "# → 모든 값이 채워져 있으면 False 반환\n",
        "\n",
        "print('NULL 값 존재 유무 :', train_data.isnull().values.any())\n",
        "\n",
        "# ✅ 실행 예시:\n",
        "# NULL 값 존재 유무 : True   ← 일부 리뷰가 비어 있음\n",
        "# (또는)\n",
        "# NULL 값 존재 유무 : False  ← 모든 리뷰가 채워져 있음"
      ],
      "execution_count": 26,
      "outputs": [
        {
          "output_type": "stream",
          "name": "stdout",
          "text": [
            "NULL 값 존재 유무 : True\n"
          ]
        }
      ]
    },
    {
      "cell_type": "code",
      "metadata": {
        "colab": {
          "base_uri": "https://localhost:8080/"
        },
        "id": "OGan-hOTMNw-",
        "outputId": "8bd854b9-d51b-4ebe-cdd1-170438052420"
      },
      "source": [
        "# 🧹 Null(결측값)이 들어 있는 행을 전부 삭제하는 코드\n",
        "\n",
        "# train_data.dropna(how='any')\n",
        "# → 결측값(NULL, NaN)이 '하나라도(any)' 포함된 행(row)을 제거\n",
        "# → 즉, 리뷰 내용(document)이나 라벨(label)이 비어 있으면 그 행 전체를 삭제함\n",
        "\n",
        "train_data = train_data.dropna(how='any')  # Null 값이 있는 행 삭제\n",
        "\n",
        "# 삭제 후, 다시 Null 값이 남아 있는지 확인\n",
        "print('NULL 값 존재 유무 :', train_data.isnull().values.any())\n",
        "\n",
        "# ✅ 실행 예시:\n",
        "# NULL 값 존재 유무 : False\n",
        "# → 모든 결측값이 정상적으로 제거되었다는 의미"
      ],
      "execution_count": 27,
      "outputs": [
        {
          "output_type": "stream",
          "name": "stdout",
          "text": [
            "NULL 값 존재 유무 : False\n"
          ]
        }
      ]
    },
    {
      "cell_type": "code",
      "metadata": {
        "colab": {
          "base_uri": "https://localhost:8080/"
        },
        "id": "P5LwmDrIMY8g",
        "outputId": "fe242592-3793-41a3-fec0-6e0934143252"
      },
      "source": [
        "print('리뷰 개수 :',len(train_data))"
      ],
      "execution_count": null,
      "outputs": [
        {
          "output_type": "stream",
          "name": "stdout",
          "text": [
            "리뷰 개수 : 199992\n"
          ]
        }
      ]
    },
    {
      "cell_type": "code",
      "metadata": {
        "id": "6KVYwgJLMbgy"
      },
      "source": [
        "# 🧹 정규 표현식(Regular Expression)을 사용해서\n",
        "#     리뷰 텍스트에서 '한글이 아닌 문자'를 모두 제거하는 코드\n",
        "\n",
        "# train_data['document']\n",
        "# → 영화 리뷰가 들어 있는 열(column)\n",
        "\n",
        "# .str.replace(\"패턴\", \"바꿀문자\")\n",
        "# → 문자열 안에서 특정 패턴을 찾아 바꿔줌\n",
        "# 여기서는 한글이 아닌 문자들을 \"\" (빈 문자열)로 바꿔서 삭제함\n",
        "\n",
        "# 정규식 설명: [^ㄱ-ㅎㅏ-ㅣ가-힣 ]\n",
        "# ▪ [ ] : 문자 집합\n",
        "# ▪ ^ : '이 문자들을 제외한' 이라는 의미\n",
        "# ▪ ㄱ-ㅎ : 자음 범위\n",
        "# ▪ ㅏ-ㅣ : 모음 범위\n",
        "# ▪ 가-힣 : 완성된 한글 음절\n",
        "# ▪ 공백( ) 포함\n",
        "# → 즉, 한글과 공백을 제외한 모든 문자(영어, 숫자, 특수문자 등)를 제거함\n",
        "\n",
        "train_data['document'] = train_data['document'].str.replace(\"[^ㄱ-ㅎㅏ-ㅣ가-힣 ]\", \"\")\n",
        "\n",
        "# ✅ 실행 결과 예시:\n",
        "# 원래: \"영화 너무 재미있어요!!! ㅋㅋㅋ Good~\"\n",
        "# 처리 후: \"영화 너무 재미있어요 ㅋㅋㅋ\"\n",
        "\n",
        "# 영어, 숫자, 특수문자는 모두 사라지고 한글과 공백만 남게 됨"
      ],
      "execution_count": 28,
      "outputs": []
    },
    {
      "cell_type": "code",
      "metadata": {
        "colab": {
          "base_uri": "https://localhost:8080/",
          "height": 206
        },
        "id": "VFdpdvDSMdEw",
        "outputId": "488c77ef-79db-4bd5-b825-1fd55c69a4ba"
      },
      "source": [
        "train_data[:5] # 상위 5개 출력"
      ],
      "execution_count": 29,
      "outputs": [
        {
          "output_type": "execute_result",
          "data": {
            "text/plain": [
              "         id                                           document  label\n",
              "0   8112052                                어릴때보고 지금다시봐도 재밌어요ㅋㅋ      1\n",
              "1   8132799  디자인을 배우는 학생으로, 외국디자이너와 그들이 일군 전통을 통해 발전해가는 문화산...      1\n",
              "2   4655635               폴리스스토리 시리즈는 1부터 뉴까지 버릴께 하나도 없음.. 최고.      1\n",
              "3   9251303  와.. 연기가 진짜 개쩔구나.. 지루할거라고 생각했는데 몰입해서 봤다.. 그래 이런...      1\n",
              "4  10067386                        안개 자욱한 밤하늘에 떠 있는 초승달 같은 영화.      1"
            ],
            "text/html": [
              "\n",
              "  <div id=\"df-eeff0446-f7e0-4693-bf80-e8e7860a767d\" class=\"colab-df-container\">\n",
              "    <div>\n",
              "<style scoped>\n",
              "    .dataframe tbody tr th:only-of-type {\n",
              "        vertical-align: middle;\n",
              "    }\n",
              "\n",
              "    .dataframe tbody tr th {\n",
              "        vertical-align: top;\n",
              "    }\n",
              "\n",
              "    .dataframe thead th {\n",
              "        text-align: right;\n",
              "    }\n",
              "</style>\n",
              "<table border=\"1\" class=\"dataframe\">\n",
              "  <thead>\n",
              "    <tr style=\"text-align: right;\">\n",
              "      <th></th>\n",
              "      <th>id</th>\n",
              "      <th>document</th>\n",
              "      <th>label</th>\n",
              "    </tr>\n",
              "  </thead>\n",
              "  <tbody>\n",
              "    <tr>\n",
              "      <th>0</th>\n",
              "      <td>8112052</td>\n",
              "      <td>어릴때보고 지금다시봐도 재밌어요ㅋㅋ</td>\n",
              "      <td>1</td>\n",
              "    </tr>\n",
              "    <tr>\n",
              "      <th>1</th>\n",
              "      <td>8132799</td>\n",
              "      <td>디자인을 배우는 학생으로, 외국디자이너와 그들이 일군 전통을 통해 발전해가는 문화산...</td>\n",
              "      <td>1</td>\n",
              "    </tr>\n",
              "    <tr>\n",
              "      <th>2</th>\n",
              "      <td>4655635</td>\n",
              "      <td>폴리스스토리 시리즈는 1부터 뉴까지 버릴께 하나도 없음.. 최고.</td>\n",
              "      <td>1</td>\n",
              "    </tr>\n",
              "    <tr>\n",
              "      <th>3</th>\n",
              "      <td>9251303</td>\n",
              "      <td>와.. 연기가 진짜 개쩔구나.. 지루할거라고 생각했는데 몰입해서 봤다.. 그래 이런...</td>\n",
              "      <td>1</td>\n",
              "    </tr>\n",
              "    <tr>\n",
              "      <th>4</th>\n",
              "      <td>10067386</td>\n",
              "      <td>안개 자욱한 밤하늘에 떠 있는 초승달 같은 영화.</td>\n",
              "      <td>1</td>\n",
              "    </tr>\n",
              "  </tbody>\n",
              "</table>\n",
              "</div>\n",
              "    <div class=\"colab-df-buttons\">\n",
              "\n",
              "  <div class=\"colab-df-container\">\n",
              "    <button class=\"colab-df-convert\" onclick=\"convertToInteractive('df-eeff0446-f7e0-4693-bf80-e8e7860a767d')\"\n",
              "            title=\"Convert this dataframe to an interactive table.\"\n",
              "            style=\"display:none;\">\n",
              "\n",
              "  <svg xmlns=\"http://www.w3.org/2000/svg\" height=\"24px\" viewBox=\"0 -960 960 960\">\n",
              "    <path d=\"M120-120v-720h720v720H120Zm60-500h600v-160H180v160Zm220 220h160v-160H400v160Zm0 220h160v-160H400v160ZM180-400h160v-160H180v160Zm440 0h160v-160H620v160ZM180-180h160v-160H180v160Zm440 0h160v-160H620v160Z\"/>\n",
              "  </svg>\n",
              "    </button>\n",
              "\n",
              "  <style>\n",
              "    .colab-df-container {\n",
              "      display:flex;\n",
              "      gap: 12px;\n",
              "    }\n",
              "\n",
              "    .colab-df-convert {\n",
              "      background-color: #E8F0FE;\n",
              "      border: none;\n",
              "      border-radius: 50%;\n",
              "      cursor: pointer;\n",
              "      display: none;\n",
              "      fill: #1967D2;\n",
              "      height: 32px;\n",
              "      padding: 0 0 0 0;\n",
              "      width: 32px;\n",
              "    }\n",
              "\n",
              "    .colab-df-convert:hover {\n",
              "      background-color: #E2EBFA;\n",
              "      box-shadow: 0px 1px 2px rgba(60, 64, 67, 0.3), 0px 1px 3px 1px rgba(60, 64, 67, 0.15);\n",
              "      fill: #174EA6;\n",
              "    }\n",
              "\n",
              "    .colab-df-buttons div {\n",
              "      margin-bottom: 4px;\n",
              "    }\n",
              "\n",
              "    [theme=dark] .colab-df-convert {\n",
              "      background-color: #3B4455;\n",
              "      fill: #D2E3FC;\n",
              "    }\n",
              "\n",
              "    [theme=dark] .colab-df-convert:hover {\n",
              "      background-color: #434B5C;\n",
              "      box-shadow: 0px 1px 3px 1px rgba(0, 0, 0, 0.15);\n",
              "      filter: drop-shadow(0px 1px 2px rgba(0, 0, 0, 0.3));\n",
              "      fill: #FFFFFF;\n",
              "    }\n",
              "  </style>\n",
              "\n",
              "    <script>\n",
              "      const buttonEl =\n",
              "        document.querySelector('#df-eeff0446-f7e0-4693-bf80-e8e7860a767d button.colab-df-convert');\n",
              "      buttonEl.style.display =\n",
              "        google.colab.kernel.accessAllowed ? 'block' : 'none';\n",
              "\n",
              "      async function convertToInteractive(key) {\n",
              "        const element = document.querySelector('#df-eeff0446-f7e0-4693-bf80-e8e7860a767d');\n",
              "        const dataTable =\n",
              "          await google.colab.kernel.invokeFunction('convertToInteractive',\n",
              "                                                    [key], {});\n",
              "        if (!dataTable) return;\n",
              "\n",
              "        const docLinkHtml = 'Like what you see? Visit the ' +\n",
              "          '<a target=\"_blank\" href=https://colab.research.google.com/notebooks/data_table.ipynb>data table notebook</a>'\n",
              "          + ' to learn more about interactive tables.';\n",
              "        element.innerHTML = '';\n",
              "        dataTable['output_type'] = 'display_data';\n",
              "        await google.colab.output.renderOutput(dataTable, element);\n",
              "        const docLink = document.createElement('div');\n",
              "        docLink.innerHTML = docLinkHtml;\n",
              "        element.appendChild(docLink);\n",
              "      }\n",
              "    </script>\n",
              "  </div>\n",
              "\n",
              "\n",
              "    <div id=\"df-0ce84bc0-7479-4511-9e1e-d707a4429024\">\n",
              "      <button class=\"colab-df-quickchart\" onclick=\"quickchart('df-0ce84bc0-7479-4511-9e1e-d707a4429024')\"\n",
              "                title=\"Suggest charts\"\n",
              "                style=\"display:none;\">\n",
              "\n",
              "<svg xmlns=\"http://www.w3.org/2000/svg\" height=\"24px\"viewBox=\"0 0 24 24\"\n",
              "     width=\"24px\">\n",
              "    <g>\n",
              "        <path d=\"M19 3H5c-1.1 0-2 .9-2 2v14c0 1.1.9 2 2 2h14c1.1 0 2-.9 2-2V5c0-1.1-.9-2-2-2zM9 17H7v-7h2v7zm4 0h-2V7h2v10zm4 0h-2v-4h2v4z\"/>\n",
              "    </g>\n",
              "</svg>\n",
              "      </button>\n",
              "\n",
              "<style>\n",
              "  .colab-df-quickchart {\n",
              "      --bg-color: #E8F0FE;\n",
              "      --fill-color: #1967D2;\n",
              "      --hover-bg-color: #E2EBFA;\n",
              "      --hover-fill-color: #174EA6;\n",
              "      --disabled-fill-color: #AAA;\n",
              "      --disabled-bg-color: #DDD;\n",
              "  }\n",
              "\n",
              "  [theme=dark] .colab-df-quickchart {\n",
              "      --bg-color: #3B4455;\n",
              "      --fill-color: #D2E3FC;\n",
              "      --hover-bg-color: #434B5C;\n",
              "      --hover-fill-color: #FFFFFF;\n",
              "      --disabled-bg-color: #3B4455;\n",
              "      --disabled-fill-color: #666;\n",
              "  }\n",
              "\n",
              "  .colab-df-quickchart {\n",
              "    background-color: var(--bg-color);\n",
              "    border: none;\n",
              "    border-radius: 50%;\n",
              "    cursor: pointer;\n",
              "    display: none;\n",
              "    fill: var(--fill-color);\n",
              "    height: 32px;\n",
              "    padding: 0;\n",
              "    width: 32px;\n",
              "  }\n",
              "\n",
              "  .colab-df-quickchart:hover {\n",
              "    background-color: var(--hover-bg-color);\n",
              "    box-shadow: 0 1px 2px rgba(60, 64, 67, 0.3), 0 1px 3px 1px rgba(60, 64, 67, 0.15);\n",
              "    fill: var(--button-hover-fill-color);\n",
              "  }\n",
              "\n",
              "  .colab-df-quickchart-complete:disabled,\n",
              "  .colab-df-quickchart-complete:disabled:hover {\n",
              "    background-color: var(--disabled-bg-color);\n",
              "    fill: var(--disabled-fill-color);\n",
              "    box-shadow: none;\n",
              "  }\n",
              "\n",
              "  .colab-df-spinner {\n",
              "    border: 2px solid var(--fill-color);\n",
              "    border-color: transparent;\n",
              "    border-bottom-color: var(--fill-color);\n",
              "    animation:\n",
              "      spin 1s steps(1) infinite;\n",
              "  }\n",
              "\n",
              "  @keyframes spin {\n",
              "    0% {\n",
              "      border-color: transparent;\n",
              "      border-bottom-color: var(--fill-color);\n",
              "      border-left-color: var(--fill-color);\n",
              "    }\n",
              "    20% {\n",
              "      border-color: transparent;\n",
              "      border-left-color: var(--fill-color);\n",
              "      border-top-color: var(--fill-color);\n",
              "    }\n",
              "    30% {\n",
              "      border-color: transparent;\n",
              "      border-left-color: var(--fill-color);\n",
              "      border-top-color: var(--fill-color);\n",
              "      border-right-color: var(--fill-color);\n",
              "    }\n",
              "    40% {\n",
              "      border-color: transparent;\n",
              "      border-right-color: var(--fill-color);\n",
              "      border-top-color: var(--fill-color);\n",
              "    }\n",
              "    60% {\n",
              "      border-color: transparent;\n",
              "      border-right-color: var(--fill-color);\n",
              "    }\n",
              "    80% {\n",
              "      border-color: transparent;\n",
              "      border-right-color: var(--fill-color);\n",
              "      border-bottom-color: var(--fill-color);\n",
              "    }\n",
              "    90% {\n",
              "      border-color: transparent;\n",
              "      border-bottom-color: var(--fill-color);\n",
              "    }\n",
              "  }\n",
              "</style>\n",
              "\n",
              "      <script>\n",
              "        async function quickchart(key) {\n",
              "          const quickchartButtonEl =\n",
              "            document.querySelector('#' + key + ' button');\n",
              "          quickchartButtonEl.disabled = true;  // To prevent multiple clicks.\n",
              "          quickchartButtonEl.classList.add('colab-df-spinner');\n",
              "          try {\n",
              "            const charts = await google.colab.kernel.invokeFunction(\n",
              "                'suggestCharts', [key], {});\n",
              "          } catch (error) {\n",
              "            console.error('Error during call to suggestCharts:', error);\n",
              "          }\n",
              "          quickchartButtonEl.classList.remove('colab-df-spinner');\n",
              "          quickchartButtonEl.classList.add('colab-df-quickchart-complete');\n",
              "        }\n",
              "        (() => {\n",
              "          let quickchartButtonEl =\n",
              "            document.querySelector('#df-0ce84bc0-7479-4511-9e1e-d707a4429024 button');\n",
              "          quickchartButtonEl.style.display =\n",
              "            google.colab.kernel.accessAllowed ? 'block' : 'none';\n",
              "        })();\n",
              "      </script>\n",
              "    </div>\n",
              "\n",
              "    </div>\n",
              "  </div>\n"
            ],
            "application/vnd.google.colaboratory.intrinsic+json": {
              "type": "dataframe",
              "summary": "{\n  \"name\": \"train_data[:5] # \\uc0c1\\uc704 5\\uac1c \\ucd9c\\ub825\",\n  \"rows\": 5,\n  \"fields\": [\n    {\n      \"column\": \"id\",\n      \"properties\": {\n        \"dtype\": \"number\",\n        \"std\": 2064291,\n        \"min\": 4655635,\n        \"max\": 10067386,\n        \"num_unique_values\": 5,\n        \"samples\": [\n          8132799,\n          10067386,\n          4655635\n        ],\n        \"semantic_type\": \"\",\n        \"description\": \"\"\n      }\n    },\n    {\n      \"column\": \"document\",\n      \"properties\": {\n        \"dtype\": \"string\",\n        \"num_unique_values\": 5,\n        \"samples\": [\n          \"\\ub514\\uc790\\uc778\\uc744 \\ubc30\\uc6b0\\ub294 \\ud559\\uc0dd\\uc73c\\ub85c, \\uc678\\uad6d\\ub514\\uc790\\uc774\\ub108\\uc640 \\uadf8\\ub4e4\\uc774 \\uc77c\\uad70 \\uc804\\ud1b5\\uc744 \\ud1b5\\ud574 \\ubc1c\\uc804\\ud574\\uac00\\ub294 \\ubb38\\ud654\\uc0b0\\uc5c5\\uc774 \\ubd80\\ub7ec\\uc6e0\\ub294\\ub370. \\uc0ac\\uc2e4 \\uc6b0\\ub9ac\\ub098\\ub77c\\uc5d0\\uc11c\\ub3c4 \\uadf8 \\uc5b4\\ub824\\uc6b4\\uc2dc\\uc808\\uc5d0 \\ub05d\\uae4c\\uc9c0 \\uc5f4\\uc815\\uc744 \\uc9c0\\ud0a8 \\ub178\\ub77c\\ub178 \\uac19\\uc740 \\uc804\\ud1b5\\uc774\\uc788\\uc5b4 \\uc800\\uc640 \\uac19\\uc740 \\uc0ac\\ub78c\\ub4e4\\uc774 \\uafc8\\uc744 \\uafb8\\uace0 \\uc774\\ub904\\ub098\\uac08 \\uc218 \\uc788\\ub2e4\\ub294 \\uac83\\uc5d0 \\uac10\\uc0ac\\ud569\\ub2c8\\ub2e4.\",\n          \"\\uc548\\uac1c \\uc790\\uc6b1\\ud55c \\ubc24\\ud558\\ub298\\uc5d0 \\ub5a0 \\uc788\\ub294 \\ucd08\\uc2b9\\ub2ec \\uac19\\uc740 \\uc601\\ud654.\",\n          \"\\ud3f4\\ub9ac\\uc2a4\\uc2a4\\ud1a0\\ub9ac \\uc2dc\\ub9ac\\uc988\\ub294 1\\ubd80\\ud130 \\ub274\\uae4c\\uc9c0 \\ubc84\\ub9b4\\uaed8 \\ud558\\ub098\\ub3c4 \\uc5c6\\uc74c.. \\ucd5c\\uace0.\"\n        ],\n        \"semantic_type\": \"\",\n        \"description\": \"\"\n      }\n    },\n    {\n      \"column\": \"label\",\n      \"properties\": {\n        \"dtype\": \"number\",\n        \"std\": 0,\n        \"min\": 1,\n        \"max\": 1,\n        \"num_unique_values\": 1,\n        \"samples\": [\n          1\n        ],\n        \"semantic_type\": \"\",\n        \"description\": \"\"\n      }\n    }\n  ]\n}"
            }
          },
          "metadata": {},
          "execution_count": 29
        }
      ]
    },
    {
      "cell_type": "code",
      "metadata": {
        "id": "9tpwym-gMg1u"
      },
      "source": [
        "# 불용어 정의\n",
        "stopwords = ['의','가','이','은','들','는','좀','잘','걍','과','도','를','으로','자','에','와','한','하다']"
      ],
      "execution_count": 30,
      "outputs": []
    },
    {
      "cell_type": "code",
      "metadata": {
        "colab": {
          "base_uri": "https://localhost:8080/"
        },
        "id": "QpOiqZuFMkie",
        "outputId": "b37e3543-8792-4416-b929-1ef4604e9f0a"
      },
      "source": [
        "# 🧠 형태소 분석기 OKT를 이용한 토큰화(Tokenization) 과정\n",
        "# (문장을 단어 단위로 쪼개고, 불필요한 단어 제거)\n",
        "# ⚠️ 데이터가 많기 때문에 실행 시 약 20분 정도 걸릴 수 있음\n",
        "\n",
        "from tqdm import tqdm   # 진행 상태를 보여주는 진행바\n",
        "\n",
        "okt = Okt()  # OKT(Open Korean Text) 형태소 분석기 객체 생성\n",
        "\n",
        "tokenized_data = []  # 토큰화된 문장들을 저장할 빈 리스트\n",
        "\n",
        "# tqdm() → for문 진행 상황을 한눈에 볼 수 있도록 표시해줌\n",
        "for sentence in tqdm(train_data['document']):\n",
        "\n",
        "    # 1️⃣ 형태소 분석 및 토큰화\n",
        "    # okt.morphs(sentence, stem=True)\n",
        "    # → 문장을 단어(형태소) 단위로 나누고, 동사는 기본형(원형)으로 변환함\n",
        "    # 예: \"재미있었어요\" → [\"재미있다\"]\n",
        "    tokenized_sentence = okt.morphs(sentence, stem=True)\n",
        "\n",
        "    # 2️⃣ 불용어(stopwords) 제거\n",
        "    # 불용어란 자주 등장하지만 의미가 없는 단어 (예: \"은\", \"는\", \"이\", \"가\" 등)\n",
        "    # 'if not word in stopwords' → 불용어 목록에 없는 단어만 남김\n",
        "    stopwords_removed_sentence = [word for word in tokenized_sentence if not word in stopwords]\n",
        "\n",
        "    # 3️⃣ 정제된 단어 리스트를 tokenized_data에 추가\n",
        "    tokenized_data.append(stopwords_removed_sentence)\n",
        "\n",
        "# ✅ 실행 결과:\n",
        "# tokenized_data는 각 문장이 '형태소 단위 리스트'로 저장된 리스트의 리스트 형태가 됨\n",
        "# 예시:\n",
        "# [\n",
        "#   ['영화', '재미있다', '추천하다'],\n",
        "#   ['배우', '연기', '좋다', '스토리', '별로다'],\n",
        "#   ...\n",
        "# ]"
      ],
      "execution_count": null,
      "outputs": [
        {
          "output_type": "stream",
          "name": "stderr",
          "text": [
            " 18%|█▊        | 36325/199992 [01:11<04:06, 664.90it/s]"
          ]
        }
      ]
    },
    {
      "cell_type": "code",
      "metadata": {
        "colab": {
          "base_uri": "https://localhost:8080/"
        },
        "id": "inQezjEYMsMC",
        "outputId": "bdd9bdd7-6e14-4706-cf07-9a028ef37154"
      },
      "source": [
        "print(tokenized_data[:3])"
      ],
      "execution_count": null,
      "outputs": [
        {
          "output_type": "stream",
          "name": "stdout",
          "text": [
            "[['어리다', '때', '보고', '지금', '다시', '보다', '재밌다', 'ㅋㅋ'], ['디자인', '을', '배우다', '학생', '외국', '디자이너', '그', '일군', '전통', '을', '통해', '발전', '문화', '산업', '부럽다', '사실', '우리나라', '에서도', '그', '어렵다', '시절', '끝', '까지', '열정', '을', '지키다', '노라노', '같다', '전통', '있다', '저', '같다', '사람', '꿈', '을', '꾸다', '이루다', '나가다', '수', '있다', '것', '감사하다'], ['폴리스스토리', '시리즈', '부터', '뉴', '까지', '버리다', '하나', '없다', '최고']]\n"
          ]
        }
      ]
    },
    {
      "cell_type": "code",
      "metadata": {
        "colab": {
          "base_uri": "https://localhost:8080/",
          "height": 486
        },
        "id": "1NWAUGLRMtBa",
        "outputId": "534e1745-85ba-467c-a2b0-486f9ccc867b"
      },
      "source": [
        "# 리뷰 길이 분포 확인\n",
        "print('리뷰의 최대 길이 :',max(len(l) for l in tokenized_data))\n",
        "print('리뷰의 평균 길이 :',sum(map(len, tokenized_data))/len(tokenized_data))\n",
        "plt.hist([len(s) for s in tokenized_data], bins=50)\n",
        "plt.xlabel('length of samples')\n",
        "plt.ylabel('number of samples')\n",
        "plt.show()"
      ],
      "execution_count": null,
      "outputs": [
        {
          "output_type": "stream",
          "name": "stdout",
          "text": [
            "리뷰의 최대 길이 : 72\n",
            "리뷰의 평균 길이 : 10.716703668146726\n"
          ]
        },
        {
          "output_type": "display_data",
          "data": {
            "text/plain": [
              "<Figure size 640x480 with 1 Axes>"
            ],
            "image/png": "[encoded data removed]"
          },
          "metadata": {}
        }
      ]
    },
    {
      "cell_type": "code",
      "metadata": {
        "id": "EJSFpoy1M4Cu"
      },
      "source": [
        "from gensim.models import Word2Vec"
      ],
      "execution_count": null,
      "outputs": []
    },
    {
      "cell_type": "code",
      "metadata": {
        "id": "4gJ2VO_VM3G6"
      },
      "source": [
        "model = Word2Vec(sentences = tokenized_data, vector_size = 100, window = 5, min_count = 5, workers = 4, sg = 0)"
      ],
      "execution_count": null,
      "outputs": []
    },
    {
      "cell_type": "code",
      "metadata": {
        "colab": {
          "base_uri": "https://localhost:8080/"
        },
        "id": "LHomXzdzM4lj",
        "outputId": "0dca62c6-176b-482a-cc4d-025056429fba"
      },
      "source": [
        "print('완성된 임베딩 매트릭스의 크기 확인 :', model.wv.vectors.shape)"
      ],
      "execution_count": null,
      "outputs": [
        {
          "output_type": "stream",
          "name": "stdout",
          "text": [
            "완성된 임베딩 매트릭스의 크기 확인 : (16477, 100)\n"
          ]
        }
      ]
    },
    {
      "cell_type": "code",
      "metadata": {
        "colab": {
          "base_uri": "https://localhost:8080/"
        },
        "id": "CQ0pNuEjM55g",
        "outputId": "eda6ec9a-b314-4011-8173-7994955a886b"
      },
      "source": [
        "print(model.wv.most_similar(\"최민식\"))"
      ],
      "execution_count": null,
      "outputs": [
        {
          "output_type": "stream",
          "name": "stdout",
          "text": [
            "[('한석규', 0.8795193433761597), ('안성기', 0.8745977282524109), ('김명민', 0.8648231625556946), ('김수현', 0.8571472764015198), ('박중훈', 0.8523020148277283), ('송강호', 0.8382790088653564), ('설경구', 0.8279197812080383), ('윤제문', 0.8265255093574524), ('엄태웅', 0.8250567317008972), ('이민호', 0.8234192728996277)]\n"
          ]
        }
      ]
    },
    {
      "cell_type": "code",
      "metadata": {
        "colab": {
          "base_uri": "https://localhost:8080/"
        },
        "id": "Fu54eXfcM95n",
        "outputId": "e3b40604-8663-46f6-b89a-7403ee7456c5"
      },
      "source": [
        "print(model.wv.most_similar(\"히어로\"))"
      ],
      "execution_count": null,
      "outputs": [
        {
          "output_type": "stream",
          "name": "stdout",
          "text": [
            "[('슬래셔', 0.8624646663665771), ('느와르', 0.8582134246826172), ('호러', 0.8564848303794861), ('물의', 0.851243793964386), ('블랙', 0.8409926891326904), ('무협', 0.8357768654823303), ('블록버스터', 0.8331990242004395), ('무비', 0.8258812427520752), ('헐리우드', 0.8137089014053345), ('물', 0.8070505261421204)]\n"
          ]
        }
      ]
    },
    {
      "cell_type": "code",
      "metadata": {
        "id": "_Q9ZZ2RrP7HQ",
        "outputId": "05b92a01-7783-45c0-e76f-c7b4edbb451f",
        "colab": {
          "base_uri": "https://localhost:8080/"
        }
      },
      "source": [
        "print(model.wv.most_similar(\"발연기\"))"
      ],
      "execution_count": null,
      "outputs": [
        {
          "output_type": "stream",
          "name": "stdout",
          "text": [
            "[('연기', 0.758121132850647), ('어색', 0.7345728874206543), ('연기력', 0.7304934859275818), ('발음', 0.7244566679000854), ('조연', 0.7157142758369446), ('사투리', 0.7052367925643921), ('캐스팅', 0.6964720487594604), ('미스캐스팅', 0.6796514391899109), ('주연', 0.659852147102356), ('신하균', 0.6586893796920776)]\n"
          ]
        }
      ]
    },
    {
      "cell_type": "markdown",
      "source": [
        "# 3. 사전 훈련된 Word2Vec"
      ],
      "metadata": {
        "id": "G285zFXbP3cE"
      }
    },
    {
      "cell_type": "code",
      "source": [
        "import gensim\n",
        "import urllib.request"
      ],
      "metadata": {
        "id": "Mo7CiIf7Qgfm"
      },
      "execution_count": null,
      "outputs": []
    },
    {
      "cell_type": "code",
      "source": [
        "from google.colab import drive\n",
        "drive.mount('/content/drive')"
      ],
      "metadata": {
        "id": "fUmm3HjSB8q0",
        "outputId": "da919b3b-5968-4cf6-e482-6227b8dd8535",
        "colab": {
          "base_uri": "https://localhost:8080/"
        }
      },
      "execution_count": null,
      "outputs": [
        {
          "output_type": "stream",
          "name": "stdout",
          "text": [
            "Mounted at /content/drive\n"
          ]
        }
      ]
    },
    {
      "cell_type": "code",
      "source": [
        "## 원래 예제 코드: 해당 파일이 없어 에러가 발생함\n",
        "# urllib.request.urlretrieve(\"https://s3.amazonaws.com/dl4j-distribution/GoogleNews-vectors-negative300.bin.gz\", \\\n",
        "#                           filename=\"GoogleNews-vectors-negative300.bin.gz\")\n",
        "\n",
        "## 수정된 코드\n",
        "# 1. 사전 학습된 Word2Vec 파일을 아래 링크에서 다운로드\n",
        "#    https://code.google.com/archive/p/word2vec/\n",
        "#      or\n",
        "#    https://drive.google.com/file/d/1ikNHEMqN0RYFwFf0m9t1Jr0hei_Hehqu/view?usp=share_link\n",
        "\n",
        "# 2. 자신의 구글 드라이브에 다운로드 받은 파일을 업로드하고 마운트한 후 해당 파일 경로를 복사하여 아래 코드에 추가\n",
        "word2vec_model = gensim.models.KeyedVectors.load_word2vec_format('/content/drive/MyDrive/공유/GoogleNews-vectors-negative300.bin.gz', binary=True)"
      ],
      "metadata": {
        "id": "uCA1X9owP6pP"
      },
      "execution_count": null,
      "outputs": []
    },
    {
      "cell_type": "code",
      "source": [
        "print(word2vec_model.vectors.shape)"
      ],
      "metadata": {
        "colab": {
          "base_uri": "https://localhost:8080/"
        },
        "id": "VhYcivz5QLcA",
        "outputId": "3b280e67-cd03-4565-fef1-599075ccd295"
      },
      "execution_count": null,
      "outputs": [
        {
          "output_type": "stream",
          "name": "stdout",
          "text": [
            "(3000000, 300)\n"
          ]
        }
      ]
    },
    {
      "cell_type": "code",
      "source": [
        "print(word2vec_model.similarity('this', 'is'))\n",
        "print(word2vec_model.similarity('post', 'book'))"
      ],
      "metadata": {
        "colab": {
          "base_uri": "https://localhost:8080/"
        },
        "id": "qqfBJVoNQLAt",
        "outputId": "d032ca20-4bdf-460f-f7cb-31dbf3084964"
      },
      "execution_count": null,
      "outputs": [
        {
          "output_type": "stream",
          "name": "stdout",
          "text": [
            "0.40797037\n",
            "0.057204384\n"
          ]
        }
      ]
    },
    {
      "cell_type": "code",
      "source": [
        "print(word2vec_model['book'])"
      ],
      "metadata": {
        "colab": {
          "base_uri": "https://localhost:8080/"
        },
        "id": "81xg-xSDQOx0",
        "outputId": "f37885de-26f7-4903-fc6c-5969d328c973"
      },
      "execution_count": null,
      "outputs": [
        {
          "output_type": "stream",
          "name": "stdout",
          "text": [
            "[ 0.11279297 -0.02612305 -0.04492188  0.06982422  0.140625    0.03039551\n",
            " -0.04370117  0.24511719  0.08740234 -0.05053711  0.23144531 -0.07470703\n",
            "  0.21875     0.03466797 -0.14550781  0.05761719  0.00671387 -0.00701904\n",
            "  0.13183594 -0.25390625  0.14355469 -0.140625   -0.03564453 -0.21289062\n",
            " -0.24804688  0.04980469 -0.09082031  0.14453125  0.05712891 -0.10400391\n",
            " -0.19628906 -0.20507812 -0.27539062  0.03063965  0.20117188  0.17382812\n",
            "  0.09130859 -0.10107422  0.22851562 -0.04077148  0.02709961 -0.00106049\n",
            "  0.02709961  0.34179688 -0.13183594 -0.078125    0.02197266 -0.18847656\n",
            " -0.17480469 -0.05566406 -0.20898438  0.04858398 -0.07617188 -0.15625\n",
            " -0.05419922  0.01672363 -0.02722168 -0.11132812 -0.03588867 -0.18359375\n",
            "  0.28710938  0.01757812  0.02185059 -0.05664062 -0.01251221  0.01708984\n",
            " -0.21777344 -0.06787109  0.04711914 -0.00668335  0.08544922 -0.02209473\n",
            "  0.31835938  0.01794434 -0.02246094 -0.03051758 -0.09570312  0.24414062\n",
            "  0.20507812  0.05419922  0.29101562  0.03637695  0.04956055 -0.06689453\n",
            "  0.09277344 -0.10595703 -0.04370117  0.19726562 -0.03015137  0.05615234\n",
            "  0.08544922 -0.09863281 -0.02392578 -0.08691406 -0.22460938 -0.16894531\n",
            "  0.09521484 -0.0612793  -0.03015137 -0.265625   -0.13378906  0.00139618\n",
            "  0.01794434  0.10107422  0.13964844  0.06445312 -0.09765625 -0.11376953\n",
            " -0.24511719 -0.15722656  0.00457764  0.12988281 -0.03540039 -0.08105469\n",
            "  0.18652344  0.03125    -0.09326172 -0.04760742  0.23730469  0.11083984\n",
            "  0.08691406  0.01916504  0.21386719 -0.0065918  -0.08984375 -0.02502441\n",
            " -0.09863281 -0.05639648 -0.26757812  0.19335938 -0.08886719 -0.25976562\n",
            "  0.05957031 -0.10742188  0.09863281  0.1484375   0.04101562  0.00340271\n",
            " -0.06591797 -0.02941895  0.20019531 -0.00521851  0.02355957 -0.13671875\n",
            " -0.12597656 -0.10791016  0.0067749   0.15917969  0.0145874  -0.15136719\n",
            "  0.07519531 -0.02905273  0.01843262  0.20800781  0.25195312 -0.11523438\n",
            " -0.23535156  0.04101562 -0.11035156  0.02905273  0.22460938 -0.04272461\n",
            "  0.09667969  0.11865234  0.08007812  0.07958984  0.3125     -0.14941406\n",
            " -0.234375    0.06079102  0.06982422 -0.14355469 -0.05834961 -0.36914062\n",
            " -0.10595703  0.00738525  0.24023438 -0.10400391 -0.02124023  0.05712891\n",
            " -0.11621094 -0.16894531 -0.06396484 -0.12060547  0.08105469 -0.13769531\n",
            " -0.08447266  0.12792969 -0.15429688  0.17871094  0.2421875  -0.06884766\n",
            "  0.03320312  0.04394531 -0.04589844  0.03686523 -0.07421875 -0.01635742\n",
            " -0.24121094 -0.08203125 -0.01733398  0.0291748   0.10742188  0.11279297\n",
            "  0.12890625  0.01416016 -0.28710938  0.16503906 -0.25585938  0.2109375\n",
            " -0.19238281  0.22363281  0.04541016  0.00872803  0.11376953  0.375\n",
            "  0.09765625  0.06201172  0.12109375 -0.24316406  0.203125    0.12158203\n",
            "  0.08642578  0.01782227  0.17382812  0.01855469  0.03613281 -0.02124023\n",
            " -0.02905273 -0.04541016  0.1796875   0.06494141 -0.13378906 -0.09228516\n",
            "  0.02172852  0.02099609  0.07226562  0.3046875  -0.27539062 -0.30078125\n",
            "  0.08691406 -0.22949219  0.0546875  -0.34179688 -0.00680542 -0.0291748\n",
            " -0.03222656  0.16210938  0.01141357  0.23339844 -0.0859375  -0.06494141\n",
            "  0.15039062  0.17675781  0.08251953 -0.26757812 -0.11669922  0.01330566\n",
            "  0.01818848  0.10009766 -0.09570312  0.109375   -0.16992188 -0.23046875\n",
            " -0.22070312  0.0625      0.03662109 -0.125       0.05151367 -0.18847656\n",
            "  0.22949219  0.26367188 -0.09814453  0.06176758  0.11669922  0.23046875\n",
            "  0.32617188  0.02038574 -0.03735352 -0.12255859  0.296875   -0.25\n",
            " -0.08544922 -0.03149414  0.38085938  0.02929688 -0.265625    0.42382812\n",
            " -0.1484375   0.14355469 -0.03125     0.00717163 -0.16601562 -0.15820312\n",
            "  0.03637695 -0.16796875 -0.01483154  0.09667969 -0.05761719 -0.00515747]\n"
          ]
        }
      ]
    }
  ]
}