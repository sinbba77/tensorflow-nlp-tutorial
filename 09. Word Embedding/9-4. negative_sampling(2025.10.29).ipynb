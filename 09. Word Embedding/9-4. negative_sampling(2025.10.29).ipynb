{
  "nbformat": 4,
  "nbformat_minor": 0,
  "metadata": {
    "colab": {
      "name": "negative sampling.ipynb",
      "provenance": []
    },
    "kernelspec": {
      "name": "python3",
      "display_name": "Python 3"
    }
  },
  "cells": [
    {
      "cell_type": "markdown",
      "metadata": {
        "id": "huQb0vF0HSOs"
      },
      "source": [
        "이 자료는 위키독스 딥 러닝을 이용한 자연어 처리 입문의 네거티브 샘플링 구현하기 튜토리얼입니다.  \n",
        "\n",
        "링크 : https://wikidocs.net/69141  \n",
        "\n",
        "2021년 10월 14일에 마지막으로 테스트되었습니다."
      ]
    },
    {
      "cell_type": "markdown",
      "metadata": {
        "id": "tnUhr3DtFhku"
      },
      "source": [
        "# 1. 20뉴스그룹 데이터 전처리하기"
      ]
    },
    {
      "cell_type": "code",
      "metadata": {
        "id": "zk8aRsZDEXkd"
      },
      "source": [
        "# 📦 데이터 처리를 위한 필수 라이브러리\n",
        "import pandas as pd          # 표(데이터프레임) 형태로 데이터 읽기/정리/가공\n",
        "import numpy as np           # 수치 계산(배열, 벡터/행렬 연산)에 특화\n",
        "\n",
        "# 🧰 NLTK: 자연어 처리 도구 모음 (영어 텍스트 전처리에 많이 사용)\n",
        "import nltk\n",
        "from nltk.corpus import stopwords   # 불용어(자주 나오지만 의미 약한 단어) 목록 사용\n",
        "# ※ 처음 한 번은 아래처럼 리소스를 내려받아야 합니다:\n",
        "# nltk.download('stopwords')\n",
        "\n",
        "# 📰 예제 텍스트 데이터셋(20개 뉴스 그룹)을 쉽게 불러오기\n",
        "from sklearn.datasets import fetch_20newsgroups\n",
        "# 예) newsgroups = fetch_20newsgroups(subset='train', remove=('headers','footers','quotes'))\n",
        "\n",
        "# 🔤 텍스트를 정수 시퀀스로 바꾸는 Keras 토크나이저\n",
        "from tensorflow.keras.preprocessing.text import Tokenizer\n",
        "# 예) tok = Tokenizer(num_words=10000, oov_token=\"<OOV>\")\n",
        "#     tok.fit_on_texts(list_of_texts)         # 단어 사전 구축\n",
        "#     seqs = tok.texts_to_sequences(texts)    # 텍스트 → 정수 시퀀스"
      ],
      "execution_count": 2,
      "outputs": []
    },
    {
      "cell_type": "code",
      "metadata": {
        "id": "VKtuMmdK3aY6",
        "colab": {
          "base_uri": "https://localhost:8080/"
        },
        "outputId": "7442e2d1-3296-4be0-b7ad-dded3cf3f637"
      },
      "source": [
        "# 📰 20 Newsgroups 데이터셋 불러오기\n",
        "\n",
        "# fetch_20newsgroups()\n",
        "# → 20개의 뉴스 카테고리(정치, 과학, 스포츠 등)로 구성된 대표적인 텍스트 분류용 데이터셋\n",
        "#   예시: comp.graphics, sci.space, talk.politics.guns 등\n",
        "\n",
        "dataset = fetch_20newsgroups(\n",
        "    shuffle=True,                     # 데이터를 랜덤으로 섞어서 불러옴 (학습 편향 방지)\n",
        "    random_state=1,                   # 랜덤 시드 고정 (실행할 때마다 결과가 동일하게)\n",
        "    remove=('headers', 'footers', 'quotes')  # 뉴스 본문 외의 머리말, 꼬리말, 인용문 제거 → 순수한 본문만 남김\n",
        ")\n",
        "\n",
        "# dataset.data : 실제 뉴스 기사 텍스트가 담겨 있는 리스트\n",
        "documents = dataset.data\n",
        "\n",
        "# 전체 뉴스 기사 개수 출력\n",
        "print('총 샘플 수 :', len(documents))\n",
        "\n",
        "# ✅ 실행 예시:\n",
        "# 총 샘플 수 : 11314"
      ],
      "execution_count": 3,
      "outputs": [
        {
          "output_type": "stream",
          "name": "stdout",
          "text": [
            "총 샘플 수 : 11314\n"
          ]
        }
      ]
    },
    {
      "cell_type": "code",
      "metadata": {
        "id": "4tUNn_k16NPH"
      },
      "source": [
        "# 🧹 뉴스 데이터 전처리 과정\n",
        "#    불필요한 문자 제거 + 짧은 단어 삭제 + 소문자 통일\n",
        "\n",
        "# 1️⃣ 원본 뉴스 데이터를 DataFrame 형태로 변환\n",
        "news_df = pd.DataFrame({'document': documents})\n",
        "# → 리스트 형태였던 뉴스 기사들을 표 형태로 바꿔줌 (컬럼명: document)\n",
        "\n",
        "# 2️⃣ 특수문자 제거\n",
        "# [^a-zA-Z] : 영어 대문자(A-Z), 소문자(a-z)를 제외한 모든 문자\n",
        "# → 즉, 숫자·기호·특수문자·한글 등을 공백(\" \")으로 바꿉니다.\n",
        "news_df['clean_doc'] = news_df['document'].str.replace(\"[^a-zA-Z]\", \" \")\n",
        "\n",
        "# 3️⃣ 짧은 단어(길이 ≤ 3) 제거\n",
        "# 예: \"the\", \"of\", \"and\" 같은 짧은 단어들은 분석에 큰 의미가 없을 수 있음\n",
        "# x.split() → 문장을 단어 단위로 나눔\n",
        "# [w for w in x.split() if len(w) > 3] → 단어 길이가 4 이상인 단어만 남김\n",
        "# ' '.join(...) → 다시 공백으로 연결해 문장 형태로 복원\n",
        "news_df['clean_doc'] = news_df['clean_doc'].apply(\n",
        "    lambda x: ' '.join([w for w in x.split() if len(w) > 3])\n",
        ")\n",
        "\n",
        "# 4️⃣ 모든 단어를 소문자로 변환\n",
        "# 대소문자 차이로 같은 단어가 다르게 인식되는 문제를 방지\n",
        "# 예: \"Apple\"과 \"apple\"을 모두 \"apple\"로 통일\n",
        "news_df['clean_doc'] = news_df['clean_doc'].apply(lambda x: x.lower())\n",
        "\n",
        "# ✅ 결과 예시:\n",
        "# 원문: \"NASA Launches a New Space Mission!!!\"\n",
        "# 처리 후: \"nasa launches space mission\""
      ],
      "execution_count": 4,
      "outputs": []
    },
    {
      "cell_type": "code",
      "metadata": {
        "id": "muG9xzOs6Oac",
        "colab": {
          "base_uri": "https://localhost:8080/",
          "height": 293
        },
        "outputId": "9db5935e-cd67-4449-a5cf-099e3418d9d9"
      },
      "source": [
        "news_df.head()"
      ],
      "execution_count": 5,
      "outputs": [
        {
          "output_type": "execute_result",
          "data": {
            "text/plain": [
              "                                            document  \\\n",
              "0  Well i'm not sure about the story nad it did s...   \n",
              "1  \\n\\n\\n\\n\\n\\n\\nYeah, do you expect people to re...   \n",
              "2  Although I realize that principle is not one o...   \n",
              "3  Notwithstanding all the legitimate fuss about ...   \n",
              "4  Well, I will have to change the scoring on my ...   \n",
              "\n",
              "                                           clean_doc  \n",
              "0  well sure about story seem biased. what disagr...  \n",
              "1  yeah, expect people read faq, etc. actually ac...  \n",
              "2  although realize that principle your strongest...  \n",
              "3  notwithstanding legitimate fuss about this pro...  \n",
              "4  well, will have change scoring playoff pool. u...  "
            ],
            "text/html": [
              "\n",
              "  <div id=\"df-f27edcf2-b289-4e31-88bd-212a0ca7ab3a\" class=\"colab-df-container\">\n",
              "    <div>\n",
              "<style scoped>\n",
              "    .dataframe tbody tr th:only-of-type {\n",
              "        vertical-align: middle;\n",
              "    }\n",
              "\n",
              "    .dataframe tbody tr th {\n",
              "        vertical-align: top;\n",
              "    }\n",
              "\n",
              "    .dataframe thead th {\n",
              "        text-align: right;\n",
              "    }\n",
              "</style>\n",
              "<table border=\"1\" class=\"dataframe\">\n",
              "  <thead>\n",
              "    <tr style=\"text-align: right;\">\n",
              "      <th></th>\n",
              "      <th>document</th>\n",
              "      <th>clean_doc</th>\n",
              "    </tr>\n",
              "  </thead>\n",
              "  <tbody>\n",
              "    <tr>\n",
              "      <th>0</th>\n",
              "      <td>Well i'm not sure about the story nad it did s...</td>\n",
              "      <td>well sure about story seem biased. what disagr...</td>\n",
              "    </tr>\n",
              "    <tr>\n",
              "      <th>1</th>\n",
              "      <td>\\n\\n\\n\\n\\n\\n\\nYeah, do you expect people to re...</td>\n",
              "      <td>yeah, expect people read faq, etc. actually ac...</td>\n",
              "    </tr>\n",
              "    <tr>\n",
              "      <th>2</th>\n",
              "      <td>Although I realize that principle is not one o...</td>\n",
              "      <td>although realize that principle your strongest...</td>\n",
              "    </tr>\n",
              "    <tr>\n",
              "      <th>3</th>\n",
              "      <td>Notwithstanding all the legitimate fuss about ...</td>\n",
              "      <td>notwithstanding legitimate fuss about this pro...</td>\n",
              "    </tr>\n",
              "    <tr>\n",
              "      <th>4</th>\n",
              "      <td>Well, I will have to change the scoring on my ...</td>\n",
              "      <td>well, will have change scoring playoff pool. u...</td>\n",
              "    </tr>\n",
              "  </tbody>\n",
              "</table>\n",
              "</div>\n",
              "    <div class=\"colab-df-buttons\">\n",
              "\n",
              "  <div class=\"colab-df-container\">\n",
              "    <button class=\"colab-df-convert\" onclick=\"convertToInteractive('df-f27edcf2-b289-4e31-88bd-212a0ca7ab3a')\"\n",
              "            title=\"Convert this dataframe to an interactive table.\"\n",
              "            style=\"display:none;\">\n",
              "\n",
              "  <svg xmlns=\"http://www.w3.org/2000/svg\" height=\"24px\" viewBox=\"0 -960 960 960\">\n",
              "    <path d=\"M120-120v-720h720v720H120Zm60-500h600v-160H180v160Zm220 220h160v-160H400v160Zm0 220h160v-160H400v160ZM180-400h160v-160H180v160Zm440 0h160v-160H620v160ZM180-180h160v-160H180v160Zm440 0h160v-160H620v160Z\"/>\n",
              "  </svg>\n",
              "    </button>\n",
              "\n",
              "  <style>\n",
              "    .colab-df-container {\n",
              "      display:flex;\n",
              "      gap: 12px;\n",
              "    }\n",
              "\n",
              "    .colab-df-convert {\n",
              "      background-color: #E8F0FE;\n",
              "      border: none;\n",
              "      border-radius: 50%;\n",
              "      cursor: pointer;\n",
              "      display: none;\n",
              "      fill: #1967D2;\n",
              "      height: 32px;\n",
              "      padding: 0 0 0 0;\n",
              "      width: 32px;\n",
              "    }\n",
              "\n",
              "    .colab-df-convert:hover {\n",
              "      background-color: #E2EBFA;\n",
              "      box-shadow: 0px 1px 2px rgba(60, 64, 67, 0.3), 0px 1px 3px 1px rgba(60, 64, 67, 0.15);\n",
              "      fill: #174EA6;\n",
              "    }\n",
              "\n",
              "    .colab-df-buttons div {\n",
              "      margin-bottom: 4px;\n",
              "    }\n",
              "\n",
              "    [theme=dark] .colab-df-convert {\n",
              "      background-color: #3B4455;\n",
              "      fill: #D2E3FC;\n",
              "    }\n",
              "\n",
              "    [theme=dark] .colab-df-convert:hover {\n",
              "      background-color: #434B5C;\n",
              "      box-shadow: 0px 1px 3px 1px rgba(0, 0, 0, 0.15);\n",
              "      filter: drop-shadow(0px 1px 2px rgba(0, 0, 0, 0.3));\n",
              "      fill: #FFFFFF;\n",
              "    }\n",
              "  </style>\n",
              "\n",
              "    <script>\n",
              "      const buttonEl =\n",
              "        document.querySelector('#df-f27edcf2-b289-4e31-88bd-212a0ca7ab3a button.colab-df-convert');\n",
              "      buttonEl.style.display =\n",
              "        google.colab.kernel.accessAllowed ? 'block' : 'none';\n",
              "\n",
              "      async function convertToInteractive(key) {\n",
              "        const element = document.querySelector('#df-f27edcf2-b289-4e31-88bd-212a0ca7ab3a');\n",
              "        const dataTable =\n",
              "          await google.colab.kernel.invokeFunction('convertToInteractive',\n",
              "                                                    [key], {});\n",
              "        if (!dataTable) return;\n",
              "\n",
              "        const docLinkHtml = 'Like what you see? Visit the ' +\n",
              "          '<a target=\"_blank\" href=https://colab.research.google.com/notebooks/data_table.ipynb>data table notebook</a>'\n",
              "          + ' to learn more about interactive tables.';\n",
              "        element.innerHTML = '';\n",
              "        dataTable['output_type'] = 'display_data';\n",
              "        await google.colab.output.renderOutput(dataTable, element);\n",
              "        const docLink = document.createElement('div');\n",
              "        docLink.innerHTML = docLinkHtml;\n",
              "        element.appendChild(docLink);\n",
              "      }\n",
              "    </script>\n",
              "  </div>\n",
              "\n",
              "\n",
              "    <div id=\"df-1dcc34fe-e7b7-4d95-b829-7c07333ca429\">\n",
              "      <button class=\"colab-df-quickchart\" onclick=\"quickchart('df-1dcc34fe-e7b7-4d95-b829-7c07333ca429')\"\n",
              "                title=\"Suggest charts\"\n",
              "                style=\"display:none;\">\n",
              "\n",
              "<svg xmlns=\"http://www.w3.org/2000/svg\" height=\"24px\"viewBox=\"0 0 24 24\"\n",
              "     width=\"24px\">\n",
              "    <g>\n",
              "        <path d=\"M19 3H5c-1.1 0-2 .9-2 2v14c0 1.1.9 2 2 2h14c1.1 0 2-.9 2-2V5c0-1.1-.9-2-2-2zM9 17H7v-7h2v7zm4 0h-2V7h2v10zm4 0h-2v-4h2v4z\"/>\n",
              "    </g>\n",
              "</svg>\n",
              "      </button>\n",
              "\n",
              "<style>\n",
              "  .colab-df-quickchart {\n",
              "      --bg-color: #E8F0FE;\n",
              "      --fill-color: #1967D2;\n",
              "      --hover-bg-color: #E2EBFA;\n",
              "      --hover-fill-color: #174EA6;\n",
              "      --disabled-fill-color: #AAA;\n",
              "      --disabled-bg-color: #DDD;\n",
              "  }\n",
              "\n",
              "  [theme=dark] .colab-df-quickchart {\n",
              "      --bg-color: #3B4455;\n",
              "      --fill-color: #D2E3FC;\n",
              "      --hover-bg-color: #434B5C;\n",
              "      --hover-fill-color: #FFFFFF;\n",
              "      --disabled-bg-color: #3B4455;\n",
              "      --disabled-fill-color: #666;\n",
              "  }\n",
              "\n",
              "  .colab-df-quickchart {\n",
              "    background-color: var(--bg-color);\n",
              "    border: none;\n",
              "    border-radius: 50%;\n",
              "    cursor: pointer;\n",
              "    display: none;\n",
              "    fill: var(--fill-color);\n",
              "    height: 32px;\n",
              "    padding: 0;\n",
              "    width: 32px;\n",
              "  }\n",
              "\n",
              "  .colab-df-quickchart:hover {\n",
              "    background-color: var(--hover-bg-color);\n",
              "    box-shadow: 0 1px 2px rgba(60, 64, 67, 0.3), 0 1px 3px 1px rgba(60, 64, 67, 0.15);\n",
              "    fill: var(--button-hover-fill-color);\n",
              "  }\n",
              "\n",
              "  .colab-df-quickchart-complete:disabled,\n",
              "  .colab-df-quickchart-complete:disabled:hover {\n",
              "    background-color: var(--disabled-bg-color);\n",
              "    fill: var(--disabled-fill-color);\n",
              "    box-shadow: none;\n",
              "  }\n",
              "\n",
              "  .colab-df-spinner {\n",
              "    border: 2px solid var(--fill-color);\n",
              "    border-color: transparent;\n",
              "    border-bottom-color: var(--fill-color);\n",
              "    animation:\n",
              "      spin 1s steps(1) infinite;\n",
              "  }\n",
              "\n",
              "  @keyframes spin {\n",
              "    0% {\n",
              "      border-color: transparent;\n",
              "      border-bottom-color: var(--fill-color);\n",
              "      border-left-color: var(--fill-color);\n",
              "    }\n",
              "    20% {\n",
              "      border-color: transparent;\n",
              "      border-left-color: var(--fill-color);\n",
              "      border-top-color: var(--fill-color);\n",
              "    }\n",
              "    30% {\n",
              "      border-color: transparent;\n",
              "      border-left-color: var(--fill-color);\n",
              "      border-top-color: var(--fill-color);\n",
              "      border-right-color: var(--fill-color);\n",
              "    }\n",
              "    40% {\n",
              "      border-color: transparent;\n",
              "      border-right-color: var(--fill-color);\n",
              "      border-top-color: var(--fill-color);\n",
              "    }\n",
              "    60% {\n",
              "      border-color: transparent;\n",
              "      border-right-color: var(--fill-color);\n",
              "    }\n",
              "    80% {\n",
              "      border-color: transparent;\n",
              "      border-right-color: var(--fill-color);\n",
              "      border-bottom-color: var(--fill-color);\n",
              "    }\n",
              "    90% {\n",
              "      border-color: transparent;\n",
              "      border-bottom-color: var(--fill-color);\n",
              "    }\n",
              "  }\n",
              "</style>\n",
              "\n",
              "      <script>\n",
              "        async function quickchart(key) {\n",
              "          const quickchartButtonEl =\n",
              "            document.querySelector('#' + key + ' button');\n",
              "          quickchartButtonEl.disabled = true;  // To prevent multiple clicks.\n",
              "          quickchartButtonEl.classList.add('colab-df-spinner');\n",
              "          try {\n",
              "            const charts = await google.colab.kernel.invokeFunction(\n",
              "                'suggestCharts', [key], {});\n",
              "          } catch (error) {\n",
              "            console.error('Error during call to suggestCharts:', error);\n",
              "          }\n",
              "          quickchartButtonEl.classList.remove('colab-df-spinner');\n",
              "          quickchartButtonEl.classList.add('colab-df-quickchart-complete');\n",
              "        }\n",
              "        (() => {\n",
              "          let quickchartButtonEl =\n",
              "            document.querySelector('#df-1dcc34fe-e7b7-4d95-b829-7c07333ca429 button');\n",
              "          quickchartButtonEl.style.display =\n",
              "            google.colab.kernel.accessAllowed ? 'block' : 'none';\n",
              "        })();\n",
              "      </script>\n",
              "    </div>\n",
              "\n",
              "    </div>\n",
              "  </div>\n"
            ],
            "application/vnd.google.colaboratory.intrinsic+json": {
              "type": "dataframe",
              "variable_name": "news_df",
              "summary": "{\n  \"name\": \"news_df\",\n  \"rows\": 11314,\n  \"fields\": [\n    {\n      \"column\": \"document\",\n      \"properties\": {\n        \"dtype\": \"string\",\n        \"num_unique_values\": 10994,\n        \"samples\": [\n          \"\\nWell, if you want to pick on Morgan, why not attack its ash (wood)\\nframe or its hand-bent metal skin (just try and get a replacement :-)).  \\nI thought the kingpost suspension was one of the Mog's better features.\",\n          \"I am writing a custom widget to support the display of graphics\\nand imagery.  The user of the widget will be able to specify,\\nwhen creating it, whether it is to operate in X or GL mode.\\n\\nI have set up translations and actions to handle mouse button\\npresses.  They work fine when the widget is in X mode.  In GL \\nmode they only work when the widget (my GL/X widget) is a child\\nof a manager.  Put another way, the translations do not work \\nwhen the widget is configured in GL mode and is a child of a \\nshell.  Does anyone know why this is happening?\",\n          \"long\\ndisk\\n\\n\\nI don't know how many times I've posted this the net.  No one EVER\\nlistens.  \\n\\nOnce and for all:  Floptical Media is only $1.40 a megabyte if you don't\\nknow where to buy it.  I am bying my flopticals at $30 per 2 disks.  I\\nsee that as $.75 a meagabyte, NOT $1.40.  No, I'm not buying in bulk, I'm\\nnot getting a special deal.  $.75 a meg is good in my book, Approching\\nfloppy price.\\n\\nAny questions on my source can be sent to ctr@po.cwru.edu.\\n\"\n        ],\n        \"semantic_type\": \"\",\n        \"description\": \"\"\n      }\n    },\n    {\n      \"column\": \"clean_doc\",\n      \"properties\": {\n        \"dtype\": \"string\",\n        \"num_unique_values\": 10958,\n        \"samples\": [\n          \"have normal procomm plus dos, i've been considering buying windows version....it really great reviews computer shopper. have friend connects mainframe unix machines here using screen seems have problem keeping with modem....he 14,400 modem machine. can't having trouble keeping pcplus works great, what after high speed modem arrives. edition this article applies only windows 3.1, os/2 apps running under windows. unadvertised limitations most current windows that their rs-232c (serial, com) performance seriously deficient. almost everyone purchases high-speed modem (v.32bis, v.32, hst) discovers problem first time they download file accept incoming 9600+) after upgrading modem. overrun retry errors abound, even when only active application datacomm program. transfer completes all, take even longer than with 2400bps modem. there three reasons problem: universal asynchronous receiver/transmitters (uarts) used most primitive ns8250 devices with single-byte fifo buffers. operating system/driver cannot read flush each character high interrupt rates, next incoming character overwrites fifo previous lost. dos, being fairly single-minded environment during datacomm, usually keep windows can't. windows more operating system overhead than plain dos, interrupts often take longer service. overruns much more likely than under dos. soon report your pc/modem vendor that losing data, advised that \\\"you need upgrade 16550\\\". more likely, since there seems conspiracy ignorance about this issue, you'll useful advice all. most store-front mail-order sources spoke with attempting solve problem never heard term \\\"16550\\\" many didn't even know what uart was. even your ns16550a uarts (and ps/2's do), upgrade your mother/com board board, still experience errors overruns because standard microsoft windows drivers don't take full advantage 16550. windows improved this regard over 3.0, still recommend driver upgrade. applications like procomm+/win (which what use) cannot around this problem themselves. have modem card, have problem, modem part card designed aware state uart, avoid overrunning however, wouldn't want that card designers were that clever, will insist 16550 uart ever modem card. some modem cards don't even have conventional uarts, they work with standard windows drivers, they need simulate one. msd.exe (below) what modem card pretending hardware situation. uarts most ports based national semiconductor ns8250 ns16450 chips megacells inside vlsi chips where can't replace them). uart type your system running microsoft diagnostic program \\\\windows\\\\msd.exe. sure *before* bringing windows. windows serial prevent from accurately identifying 16550 from windows prompt. ns16550 uart separate 16-byte transmit receive fifos with configurable trigger levels, reliably clock rates 460,800 bps, although with current modem technology, there's point pushing your luck going over 115,200 bps. 16550 shorted access cycle times than 16450 8250. 16550 also capability, clear that drivers ever this. more technical info, national semiconductor application note an-491. what uart component have? locate uart your mother board, multi-function card, board isa/mca modem card. can't find socketed component with numbers \\\"8250\\\" \\\"16450\\\", your ports probably buried vlsi, won't able perform chip replacement. disable your vlsi ports chose do), least aftermarket board. have more socketed 8250 16450 chips, plug-in ns16550afn pc16c550cn (low power cmos version) from several suppliers typically each. chip normal 40-pin dual-in-line package. other styles available, avoid ns16550 chips without (the 16c550c presumably ok). early chips have bugs, although national will reportedly exchange those their manufacture free. clone chips available from various makers other than national. manual turbocom drivers states support following (apparently equivalent) chips: national semiconductor: 16550a, 16551, 16552 chips&technology: 82c607 texas instruments: t16c550a silicon systems: 73m550 vlsi 16c550 turbocom warns about pre-\\\"a\\\" ns16550 western digital 16c550, says that problems have been reported with early ps/2 55sx systems (ibm reportedly will upgrade them). don't have socketed 8250/16450 chips, you'll need after- market multi-function board. this modem card situation, hosed. multi-function card, you'll need either disable com1/2 port(s) replacing, re-assign them com3/4 (although watch conflicts without turbocom). although cheaper cards available, interest getting problem solved quickly elected modular circuit technology mct-aio+ card from: microdevices 2233 samaritan drive jose 95124 (800) 538-5000 voice (408) 559-1200 voice other (800) 538-5005 mct-aio+ (and important) sells $89.95. 8-bit card providing: port type connector address comments db9m 1,2,3 2,3,4,5 ns16550afn socket ribbon 2,3,4 2,3,4,5 ns16550afn socket parallel db25f lpt1,2,3 game ribbon includes ribbon cable db25f connector secondary port, ribbon cable/connector game port, bulkhead plates ribbon-based connectors 9f-to-25f adaptor cable. each port individually disabled, ports have rts, cts, dtr, dcd, jumpers. also sells super-i/o card that also ide. have heard from several people about less expensive cards with 16550s: systems (407) 331-9130 $19.95 card, plus $9.95 16550. greenfield trading distributors (518) 271-2473 (voice), (518) 271-7811(fax). their card w/one 16550, w/2, they sell 16550afns $13. data systems, inc. east highway longwood, 32750 phone: (407) 331-1424 fax: (407) 331-8606 2com/lpt/game card 16550s have personal experience with firms except jdr. meanwhile, back card from jdr... only needed serial ports, running irqs disabled built-in vlsi-based 8250 ports. however, with turbocom driver (below), could have internals com3 using sharing. software situation simply upgrading 16550 uarts will completely solve common overrun problems. standard serial drivers don't take full advantage 16550. windows drivers even less capable, windows drivers have following limitations: they enable only receive fifo, only rates above 2400 bps. they never enable transmit fifo, which results interrupt rate during uploads. they trigger level bytes (too high it's easy more bytes arrive before driver read fifo). ports menu control panel only allows speeds 19200. with v.32bis modem, sparse data text easily compress more, suggesting that host connect rate 57,600 would effective. won't accept rates above \\\"cbr_128000\\\". won't programs know there 16550 there, even did, programs that aren't 16550-aware little benefit from 16550 port with standard drivers. they don't allow sharing com3,4. bios doesn't initialize com3,4 properly many systems. windows provides workaround apps that don't provide port speed options above 19200 bps. these problems reportedly solved windows 6.0, addressed windows releases after (but before 4.0). rumors suggest they \\\"may\\\" solved windows \\\"4.0\\\". replacement drivers that solve those problems buying copy \\\"turbocom\\\", current version 1.2, from: bio-engineering research pacific commware division beacon hill lane ashland 97520-9701 (503) 482-2744 voice (503) 482-2627 (503) 482-2633 mcimail: 344-5374 compuserve: 71521,760 price around recall. bio-eng accept credit cards, send check. egghead 1-800-software list turbocom know, they don't stock software company they apparently needed reliable hi-speed serial connections in-house instrument application, wrote their driver, discovered market revised general purpose driver suite. they recently upgraded windows 3.1. run-time licensed. have host (dte) connect rate 57,600 most datacomm apps, having zero problems with downloads. routinely transfer rates that exceed 2,000 bps. also using 115,200 when linking hp95lx with lossless bi-directional i/o. uploads various remote systems another matter, because many hosts still using antique uarts drivers. note that 19200 still highest rate that windows port menu control panel will allow configuring port. turbocom gets around this allowing specify, each port, factor that will real uart rate multiple rate passed through windows apis dialog boxes. also have cts/rts hardware flow control enabled, suggest that same. even only ever transfer 7-bit ascii data, xon/xoff sufficiently reliable method flow control. informal (dec) standard xon/xoff hysteresis that sender transmit another (yes, sixteen) bytes after receipt xoff from receiving system device. byte fifo 16550 clearly enough rely exclusively xon/xoff. well-respected datacomm engineer informed that 16550's can't really cts/rts itself dos/windows environment, using data rates above 115,200 still risky. even with hardware flow control, 16550 with turbocom still experience overruns very busy systems, with lots apps running serious swapping progress. this your situation, need co-processed board, this will cost more than 16550/turbocom upgrade. review such boards, review turbocom, found feb'93 issue \\\"windows sources\\\" magazine. suggest trying 16550/turbocom upgrade first, experiment with process priorities time slices \\\"power user\\\" whose thrashing system still runs into comm problems. closing soapbox comments state rs-232c serial datacomm support embarrassment across computer industry. because oldest standard interface, designing hardware writing software often seems assigned least senior lowest ranked engineers computer companies. design average serial port least years behind state art. last job, with major workstation vendor, lobbied improved serial ports when they were doing initial designs system. that family machines subsequently introduced with 16550 ports. however, this exception. computer companies seem have champions decent i/o. well learn what about serial i/o, because this situation shows sign improving soon. when v.fast arrives, expect cries outrage from windows users world-wide whose 8250 \\\"sort work today with v.32, will fail miserably with v.fast. without hardware-buffered uart (like 16550) without software drivers that that uart best advantage, v.fast modem will waste money. regards, 1001-a east harmony road niland suite internet: rjn@csn.org fort collins 80525 compuserve: 71044,2124 (303) 223-5209 copyright 1993 robert niland rights reserved permission granted automatic redistribution this article, electronic, magnetic optical media, unedited form, through usenet newsgroup where article posted author. permission granted each compuserve usenet reader subscriber each person received this article from compuserve, site authorized author electronic mail from author, retain electronic copy make hardcopy reproductions this edition this article personal non-commercial use, provided that material changes made article this copyright statement. other copying, storage, reproduction redistribution this article, form, prohibited without express written consent author, robert niland.\",\n          \"what find wrong with flat subaru's, flat that matter?\",\n          \"those interested ultra cards: posted some questions regarding ultra cards asked confirmation some opinions. this message summary responses. thanks that replied. higher memory limits apply cards only, know. eisa version should have problems. pretty sure from experience that version doesn't work systems with over ram. there supposed switching \\\"memory aperture\\\" feature prevent this, apparently doesn't work. posted some \\\"help messages people indicated that eisa card didn't have this problem. false card, which have, allows memory aperture over using their configuration software. messing with jumpers necessary. problem probably valid only cards. again, memory aperture need only disabled have more than 124m (eisa vlb) (isa). should problem you. dunno. depends bus. isa, eisa localbus nope. 640x480 72hz, 24-bit 800x600 70hz, 24-bit, non-interlaced. according magazine, they've tested local version that does 1024x768 24-bit which interlaced. pro. sometimes plus. some modes only interlaced certain monitors. this nothing with bits only with screen size. note that color windows must have megs, memory size calculations notwithstanding. they aren't perfect, much improved. don't recall last time which leave mach mode (ati mode) switch 8514 mode software incompatibility. true. many people recommended going back build they appear excellent, have bugs. example, certain graphs with dashed lines mathcad print correctly, though they display screen. they about fancy cards other accelerated cards also have bugs. overall, like card, even driver performance somewhat less than satisfactory. running 1024*768 color mode that driver october version seems allow. will this that color performance quite nice diamond stealth vram, have been able options driver. it's quite fast, whether fastest open debate. i'll admit very very fast 16-bit mode, which what wanted for. crashed many different ways) every minutes so... depends many many things. like well magazine seems think yes, this appears true greatest thing since sliced bread, doubt better cards coming out. knows, maybe will come with something faster yet. several reviews read rated pycon winjet card superior performer cheaper price except availability drivers, which pycon developing that time. magazine, about months back) overall, card potential, have able ----------------------------------------------------------------------------- that questions. these were most discussed items this group thought they needed confirmation. those familiar with card have included summary here (from since don't have graphics ultra yet.) graphics ultra plus: accelerated 1024x768 colours true colour(16.7m) 800x600 multimedia video acceleration (for indeo video,rle video compressed) stretch full motion video windows full size fast includes button mouse (isa versions only) anti-aliased fonts (ed. avail colour mode only,i think) real-time zoom across large virtual windows desktop around length card size priced from $400 u.s. graphics ultra pro: everything graphics ultra plus faster performance with vrams accelerated 1280x1024 colours 74hz non-interlaced available isa, eisa microchannel priced from $600 u.s. technologies (416) 756-0718 hope this summary you. p.s. associated with technologies other than having used their previous ultra card years (which generally liked).\"\n        ],\n        \"semantic_type\": \"\",\n        \"description\": \"\"\n      }\n    }\n  ]\n}"
            }
          },
          "metadata": {},
          "execution_count": 5
        }
      ]
    },
    {
      "cell_type": "code",
      "metadata": {
        "id": "KYuAfJNf6Rhd",
        "colab": {
          "base_uri": "https://localhost:8080/"
        },
        "outputId": "bdd207f1-c419-4467-da35-a08425826c69"
      },
      "source": [
        "# 현재 데이터프레임에 Null 값이 있는지 확인합니다.\n",
        "news_df.isnull().values.any()"
      ],
      "execution_count": 6,
      "outputs": [
        {
          "output_type": "execute_result",
          "data": {
            "text/plain": [
              "np.False_"
            ]
          },
          "metadata": {},
          "execution_count": 6
        }
      ]
    },
    {
      "cell_type": "code",
      "metadata": {
        "id": "Hx01GnG16uMS"
      },
      "source": [
        "# 빈 값(empy) 유무도 확인해야 합니다. 모든 빈 값을 Null 값으로 변환\n",
        "news_df.replace(\"\", float(\"NaN\"), inplace=True)"
      ],
      "execution_count": 7,
      "outputs": []
    },
    {
      "cell_type": "code",
      "metadata": {
        "id": "5Pw5BIic6Sia",
        "colab": {
          "base_uri": "https://localhost:8080/"
        },
        "outputId": "5d6e32f7-551c-4d26-fa6e-57da565caebf"
      },
      "source": [
        "# 다시 Null 값이 있는지 확인합니다.\n",
        "news_df.isnull().values.any()"
      ],
      "execution_count": 8,
      "outputs": [
        {
          "output_type": "execute_result",
          "data": {
            "text/plain": [
              "np.True_"
            ]
          },
          "metadata": {},
          "execution_count": 8
        }
      ]
    },
    {
      "cell_type": "code",
      "metadata": {
        "id": "EF4dk9kQ6Vt_"
      },
      "source": [
        "# Null 값을 제거합니다.\n",
        "news_df.dropna(inplace=True)"
      ],
      "execution_count": 9,
      "outputs": []
    },
    {
      "cell_type": "code",
      "metadata": {
        "id": "8oY9zFwj6xpG",
        "colab": {
          "base_uri": "https://localhost:8080/"
        },
        "outputId": "b61c9a6a-0357-4e7a-aa03-a9a3e92116df"
      },
      "source": [
        "print(len(news_df))"
      ],
      "execution_count": 10,
      "outputs": [
        {
          "output_type": "stream",
          "name": "stdout",
          "text": [
            "11004\n"
          ]
        }
      ]
    },
    {
      "cell_type": "code",
      "metadata": {
        "id": "M1vPJR0P6y0v",
        "colab": {
          "base_uri": "https://localhost:8080/"
        },
        "outputId": "7708bb54-35d8-4ece-f77f-bd1712a00d93"
      },
      "source": [
        "# 🧠 NLTK의 불용어(stopwords) 리스트를 이용해\n",
        "#     뉴스 기사에서 의미 없는 단어들을 제거하는 단계\n",
        "\n",
        "import nltk   # NLTK(자연어 처리용 기본 라이브러리) 불러오기\n",
        "\n",
        "# 처음 한 번은 stopwords 데이터를 다운로드해야 함\n",
        "nltk.download('stopwords')\n",
        "\n",
        "# 1️⃣ 영어 불용어 리스트 불러오기\n",
        "# stopwords.words('english')\n",
        "# → 'the', 'is', 'at', 'which', 'on' 등 분석에 불필요한 단어 약 180개 포함\n",
        "stop_words = stopwords.words('english')\n",
        "\n",
        "# 2️⃣ 문장 단위 데이터를 단어 단위로 분리 (토큰화)\n",
        "# x.split() → 공백 기준으로 단어를 분리\n",
        "# 예: \"nasa launches new mission\" → ['nasa', 'launches', 'new', 'mission']\n",
        "tokenized_doc = news_df['clean_doc'].apply(lambda x: x.split())\n",
        "\n",
        "# 3️⃣ 불용어 제거\n",
        "# 리스트 컴프리헨션을 사용해 stop_words에 없는 단어만 남김\n",
        "# 예: ['this', 'is', 'a', 'news', 'article'] → ['news', 'article']\n",
        "tokenized_doc = tokenized_doc.apply(lambda x: [item for item in x if item not in stop_words])\n",
        "\n",
        "# ✅ 실행 결과 예시:\n",
        "# 원문: \"this is a new space mission\"\n",
        "# 처리 후: ['new', 'space', 'mission']"
      ],
      "execution_count": 11,
      "outputs": [
        {
          "output_type": "stream",
          "name": "stderr",
          "text": [
            "[nltk_data] Downloading package stopwords to /root/nltk_data...\n",
            "[nltk_data]   Unzipping corpora/stopwords.zip.\n"
          ]
        }
      ]
    },
    {
      "cell_type": "code",
      "metadata": {
        "id": "NfY-JEAv6z-r"
      },
      "source": [
        "# 📋 pandas Series → Python 리스트(list)로 변환하는 코드\n",
        "\n",
        "# tokenized_doc 은 현재 pandas Series 형태입니다.\n",
        "# (즉, 각 행마다 하나의 토큰화된 문장 리스트가 들어 있는 상태)\n",
        "# 예시:\n",
        "# 0    ['nasa', 'launches', 'new', 'mission']\n",
        "# 1    ['computer', 'graphics', 'design']\n",
        "# 2    ['politics', 'gun', 'debate']\n",
        "# dtype: object\n",
        "\n",
        "# .to_list() 메서드는 pandas Series를 일반 Python 리스트로 변환합니다.\n",
        "# 변환 후 형태:\n",
        "# [\n",
        "#   ['nasa', 'launches', 'new', 'mission'],\n",
        "#   ['computer', 'graphics', 'design'],\n",
        "#   ['politics', 'gun', 'debate'],\n",
        "#   ...\n",
        "# ]\n",
        "\n",
        "tokenized_doc = tokenized_doc.to_list()\n",
        "\n",
        "# ✅ 이렇게 하면 이후 Word2Vec, LDA 등 모델 학습 시\n",
        "#    tokenized_doc을 바로 입력 데이터로 사용할 수 있습니다."
      ],
      "execution_count": null,
      "outputs": []
    },
    {
      "cell_type": "code",
      "metadata": {
        "id": "oMaIyDW961FN"
      },
      "source": [
        "# ⚠️ Word2Vec 같은 모델을 학습할 때는\n",
        "#     한 문장에 단어가 최소 2개 이상 있어야 ‘중심 단어(center word)’와 ‘주변 단어(context word)’ 관계를 학습할 수 있습니다.\n",
        "#     단어가 1개 이하인 문장은 학습에 사용할 수 없으므로 제거 대상입니다.\n",
        "\n",
        "# enumerate(tokenized_doc)\n",
        "# → tokenized_doc의 각 문장을 (인덱스, 문장) 형태로 반복\n",
        "#   예: [(0, ['nasa', 'launches', 'mission']), (1, ['computer']), (2, ['ai', 'model']), ...]\n",
        "\n",
        "# if len(sentence) <= 1\n",
        "# → 문장에 포함된 단어 개수가 1개 이하인 경우 True\n",
        "\n",
        "# [index for index, sentence in ... if ...]\n",
        "# → 조건에 맞는 문장들의 인덱스만 모아 리스트로 저장\n",
        "\n",
        "drop_train = [index for index, sentence in enumerate(tokenized_doc) if len(sentence) <= 1]\n",
        "\n",
        "# ✅ 실행 결과 예시:\n",
        "# drop_train = [15, 78, 131, 252, ...]\n",
        "# (→ 1개 이하 단어만 있는 문장들의 인덱스 번호가 리스트로 저장됨)"
      ],
      "execution_count": 12,
      "outputs": []
    },
    {
      "cell_type": "code",
      "metadata": {
        "id": "Gb5xmVlu62FX",
        "colab": {
          "base_uri": "https://localhost:8080/"
        },
        "outputId": "c9f516a7-3624-4f00-e40d-6aac3211acbb"
      },
      "source": [
        "print(drop_train)"
      ],
      "execution_count": 13,
      "outputs": [
        {
          "output_type": "stream",
          "name": "stdout",
          "text": [
            "[44, 353, 486, 1224, 1653, 2323, 2373, 2864, 3292, 3389, 3397, 3398, 3562, 3567, 3595, 3784, 3879, 4185, 4592, 4622, 4952, 4975, 5395, 5530, 6020, 6657, 6728, 6888, 7085, 7961, 8161, 8217, 8288, 8422, 8594, 8627, 9703, 10283, 10447, 10738, 10758, 10904, 10916, 10964]\n"
          ]
        }
      ]
    },
    {
      "cell_type": "code",
      "metadata": {
        "id": "g7ep1JeY63LT"
      },
      "source": [
        "# 🧹 단어가 1개 이하인 문장(학습 불가능한 샘플)을 실제로 제거하는 코드\n",
        "\n",
        "# np.delete(배열, 인덱스리스트, axis=0)\n",
        "# → 지정된 인덱스의 행(row)을 삭제하는 함수\n",
        "#   - tokenized_doc : 우리가 학습에 사용할 문장들의 리스트\n",
        "#   - drop_train : 앞 단계에서 찾은 “단어가 1개 이하인 문장”의 인덱스 목록\n",
        "#   - axis=0 : 행(문장) 단위로 삭제\n",
        "\n",
        "tokenized_doc = np.delete(tokenized_doc, drop_train, axis=0)\n",
        "\n",
        "# ✅ 실행 결과:\n",
        "# tokenized_doc에는 이제 “단어가 2개 이상 있는 문장”만 남게 됩니다.\n",
        "# 예)\n",
        "# 제거 전: [['ai'], ['deep', 'learning'], ['space', 'nasa']]\n",
        "# 제거 후: [['deep', 'learning'], ['space', 'nasa']]"
      ],
      "execution_count": 14,
      "outputs": []
    },
    {
      "cell_type": "code",
      "metadata": {
        "id": "lb0RfjFO64VR",
        "colab": {
          "base_uri": "https://localhost:8080/"
        },
        "outputId": "b93de36c-e39c-4579-e0cf-a407f36217a2"
      },
      "source": [
        "print(len(tokenized_doc))"
      ],
      "execution_count": 15,
      "outputs": [
        {
          "output_type": "stream",
          "name": "stdout",
          "text": [
            "10960\n"
          ]
        }
      ]
    },
    {
      "cell_type": "code",
      "metadata": {
        "id": "3IKvWstG65f4"
      },
      "source": [
        "# 🔢 단어 집합(Vocabulary)을 만들고, 각 단어를 정수로 바꾸는 과정\n",
        "\n",
        "# 1️⃣ Tokenizer 객체 생성\n",
        "# Tokenizer() → Keras에서 제공하는 단어 인덱싱 도구\n",
        "# 문장에 등장하는 단어들을 자동으로 숫자(정수)로 매핑해 줍니다.\n",
        "tokenizer = Tokenizer()\n",
        "\n",
        "# 2️⃣ 단어 사전(Vocabulary) 생성\n",
        "# fit_on_texts(tokenized_doc)\n",
        "# → tokenized_doc의 모든 단어를 읽고 단어 빈도(frequency)에 따라 인덱스를 부여\n",
        "#    (가장 자주 등장한 단어일수록 번호가 작게 부여됨)\n",
        "tokenizer.fit_on_texts(tokenized_doc)\n",
        "\n",
        "# 3️⃣ word2idx : 단어 → 숫자 인덱스 딕셔너리\n",
        "# 예: {'the': 1, 'and': 2, 'data': 3, ...}\n",
        "word2idx = tokenizer.word_index\n",
        "\n",
        "# 4️⃣ idx2word : 숫자 인덱스 → 단어 역변환 딕셔너리\n",
        "# (딥러닝 모델 결과 해석할 때 유용)\n",
        "# 예: {1: 'the', 2: 'and', 3: 'data', ...}\n",
        "idx2word = {value: key for key, value in word2idx.items()}\n",
        "\n",
        "# 5️⃣ 문장별로 단어를 숫자 시퀀스로 변환\n",
        "# texts_to_sequences()\n",
        "# → 각 문장을 단어 인덱스 번호로 변환\n",
        "# 예: [['data', 'science', 'rocks']] → [[3, 12, 45]]\n",
        "encoded = tokenizer.texts_to_sequences(tokenized_doc)\n",
        "\n",
        "# ✅ 실행 결과 예시:\n",
        "# tokenized_doc[0]  → ['nasa', 'launches', 'new', 'mission']\n",
        "# encoded[0]        → [27, 103, 4, 87]"
      ],
      "execution_count": 16,
      "outputs": []
    },
    {
      "cell_type": "code",
      "metadata": {
        "id": "zX3mAwbr69C9",
        "colab": {
          "base_uri": "https://localhost:8080/"
        },
        "outputId": "17cad72c-86c8-43e7-cdf4-569766591699"
      },
      "source": [
        "# 상위 2개의 샘플을 출력해봅시다.\n",
        "print(encoded[:2])"
      ],
      "execution_count": 17,
      "outputs": [
        {
          "output_type": "stream",
          "name": "stdout",
          "text": [
            "[[39, 52, 921, 141, 15874, 1675, 541, 275, 865, 12013, 17757, 23990, 29709, 275, 865, 63418, 865, 1121, 1096, 1988, 845, 29710, 907, 726, 20460, 275, 865, 168, 141, 1802, 147, 275, 20461, 17757, 6631, 5696, 75, 63419, 7, 35, 163, 609, 648, 29711, 6897, 23991, 2072, 823, 17758, 1112, 8776, 350, 1065, 15875, 666, 56, 161, 4217, 7192, 1924, 435, 55, 278, 4716, 9261, 2679, 39289], [1276, 424, 3, 51, 6150, 157, 111, 469, 88, 17759, 18, 62, 4717, 2854, 63420, 1035, 397, 39290, 8777, 896, 43, 8314, 312, 13026, 896, 3439, 5909, 528, 18, 86, 4718, 9858, 158, 1395, 119, 149, 5180, 63421, 63422, 17760, 63423, 13026, 897, 63424, 63425, 11157, 17761]]\n"
          ]
        }
      ]
    },
    {
      "cell_type": "code",
      "metadata": {
        "colab": {
          "base_uri": "https://localhost:8080/"
        },
        "id": "jghLyuFpE-I7",
        "outputId": "0c370e63-5570-4ce6-a35a-0475fb4d9f11"
      },
      "source": [
        "# 단어 집합의 크기를 확인합니다.\n",
        "vocab_size = len(word2idx) + 1\n",
        "print('단어 집합의 크기 :', vocab_size)"
      ],
      "execution_count": 18,
      "outputs": [
        {
          "output_type": "stream",
          "name": "stdout",
          "text": [
            "단어 집합의 크기 : 181822\n"
          ]
        }
      ]
    },
    {
      "cell_type": "markdown",
      "source": [
        "# 네거티브 샘플링을 통한 데이터셋 구성하기"
      ],
      "metadata": {
        "id": "_fiRz7rSMlSv"
      }
    },
    {
      "cell_type": "code",
      "metadata": {
        "id": "riWSoMB1FBv1"
      },
      "source": [
        "# 네거티브 샘플링을 위해서 케라스에서 제공하는 전처리 도구인 skipgrams를 사용합니다.\n",
        "from tensorflow.keras.preprocessing.sequence import skipgrams"
      ],
      "execution_count": 19,
      "outputs": []
    },
    {
      "cell_type": "code",
      "metadata": {
        "id": "gwWVeev67CH6",
        "colab": {
          "base_uri": "https://localhost:8080/",
          "height": 406
        },
        "outputId": "35a81b4d-20ba-4742-c630-d765f510f2e7"
      },
      "source": [
        "# 어떤 전처리가 수행되는지 그 결과를 확인하기 위해서 (꽤 시간이 소요되는 작업이므로)\n",
        "# 상위 10개의 뉴스그룹 샘플에 대해서만 수행해봅시다.\n",
        "\n",
        "# 네거티브 샘플링\n",
        "skip_grams = [skipgrams(sample, vocabulary_size=int(vocab_size), window_size=10) for sample in encoded[:10]]\n",
        "\n",
        "# 10개의 뉴스그룹 샘플에 대해서 모두 수행되었지만, 첫번째 뉴스그룹 샘플에 대해서만 확인해보겠습니다.\n",
        "# 첫번째 샘플인 skip_grams[0] 내 skipgrams로 형성된 데이터셋 확인\n",
        "pairs, labels = skip_grams[0][0], skip_grams[0][1]\n",
        "for i in range(5):\n",
        "    print(\"({:s} ({:d}), {:s} ({:d})) -> {:d}\".format(\n",
        "          idx2word[pairs[i][0]], pairs[i][0],\n",
        "          idx2word[pairs[i][1]], pairs[i][1],\n",
        "          labels[i]))"
      ],
      "execution_count": 23,
      "outputs": [
        {
          "output_type": "error",
          "ename": "TypeError",
          "evalue": "'float' object cannot be interpreted as an integer",
          "traceback": [
            "\u001b[0;31m---------------------------------------------------------------------------\u001b[0m",
            "\u001b[0;31mTypeError\u001b[0m                                 Traceback (most recent call last)",
            "\u001b[0;32m/tmp/ipython-input-1919735379.py\u001b[0m in \u001b[0;36m<cell line: 0>\u001b[0;34m()\u001b[0m\n\u001b[1;32m      3\u001b[0m \u001b[0;34m\u001b[0m\u001b[0m\n\u001b[1;32m      4\u001b[0m \u001b[0;31m# 네거티브 샘플링\u001b[0m\u001b[0;34m\u001b[0m\u001b[0;34m\u001b[0m\u001b[0m\n\u001b[0;32m----> 5\u001b[0;31m \u001b[0mskip_grams\u001b[0m \u001b[0;34m=\u001b[0m \u001b[0;34m[\u001b[0m\u001b[0mskipgrams\u001b[0m\u001b[0;34m(\u001b[0m\u001b[0msample\u001b[0m\u001b[0;34m,\u001b[0m \u001b[0mvocabulary_size\u001b[0m\u001b[0;34m=\u001b[0m\u001b[0mint\u001b[0m\u001b[0;34m(\u001b[0m\u001b[0mvocab_size\u001b[0m\u001b[0;34m)\u001b[0m\u001b[0;34m,\u001b[0m \u001b[0mwindow_size\u001b[0m\u001b[0;34m=\u001b[0m\u001b[0;36m10\u001b[0m\u001b[0;34m)\u001b[0m \u001b[0;32mfor\u001b[0m \u001b[0msample\u001b[0m \u001b[0;32min\u001b[0m \u001b[0mencoded\u001b[0m\u001b[0;34m[\u001b[0m\u001b[0;34m:\u001b[0m\u001b[0;36m10\u001b[0m\u001b[0;34m]\u001b[0m\u001b[0;34m]\u001b[0m\u001b[0;34m\u001b[0m\u001b[0;34m\u001b[0m\u001b[0m\n\u001b[0m\u001b[1;32m      6\u001b[0m \u001b[0;34m\u001b[0m\u001b[0m\n\u001b[1;32m      7\u001b[0m \u001b[0;31m# 10개의 뉴스그룹 샘플에 대해서 모두 수행되었지만, 첫번째 뉴스그룹 샘플에 대해서만 확인해보겠습니다.\u001b[0m\u001b[0;34m\u001b[0m\u001b[0;34m\u001b[0m\u001b[0m\n",
            "\u001b[0;32m/usr/local/lib/python3.12/dist-packages/keras/src/legacy/preprocessing/sequence.py\u001b[0m in \u001b[0;36mskipgrams\u001b[0;34m(sequence, vocabulary_size, window_size, negative_samples, shuffle, categorical, sampling_table, seed)\u001b[0m\n\u001b[1;32m    312\u001b[0m     \u001b[0;32mif\u001b[0m \u001b[0mshuffle\u001b[0m\u001b[0;34m:\u001b[0m\u001b[0;34m\u001b[0m\u001b[0;34m\u001b[0m\u001b[0m\n\u001b[1;32m    313\u001b[0m         \u001b[0;32mif\u001b[0m \u001b[0mseed\u001b[0m \u001b[0;32mis\u001b[0m \u001b[0;32mNone\u001b[0m\u001b[0;34m:\u001b[0m\u001b[0;34m\u001b[0m\u001b[0;34m\u001b[0m\u001b[0m\n\u001b[0;32m--> 314\u001b[0;31m             \u001b[0mseed\u001b[0m \u001b[0;34m=\u001b[0m \u001b[0mrandom\u001b[0m\u001b[0;34m.\u001b[0m\u001b[0mrandint\u001b[0m\u001b[0;34m(\u001b[0m\u001b[0;36m0\u001b[0m\u001b[0;34m,\u001b[0m \u001b[0;36m10e6\u001b[0m\u001b[0;34m)\u001b[0m\u001b[0;34m\u001b[0m\u001b[0;34m\u001b[0m\u001b[0m\n\u001b[0m\u001b[1;32m    315\u001b[0m         \u001b[0mrandom\u001b[0m\u001b[0;34m.\u001b[0m\u001b[0mseed\u001b[0m\u001b[0;34m(\u001b[0m\u001b[0mseed\u001b[0m\u001b[0;34m)\u001b[0m\u001b[0;34m\u001b[0m\u001b[0;34m\u001b[0m\u001b[0m\n\u001b[1;32m    316\u001b[0m         \u001b[0mrandom\u001b[0m\u001b[0;34m.\u001b[0m\u001b[0mshuffle\u001b[0m\u001b[0;34m(\u001b[0m\u001b[0mcouples\u001b[0m\u001b[0;34m)\u001b[0m\u001b[0;34m\u001b[0m\u001b[0;34m\u001b[0m\u001b[0m\n",
            "\u001b[0;32m/usr/lib/python3.12/random.py\u001b[0m in \u001b[0;36mrandint\u001b[0;34m(self, a, b)\u001b[0m\n\u001b[1;32m    334\u001b[0m         \"\"\"\n\u001b[1;32m    335\u001b[0m \u001b[0;34m\u001b[0m\u001b[0m\n\u001b[0;32m--> 336\u001b[0;31m         \u001b[0;32mreturn\u001b[0m \u001b[0mself\u001b[0m\u001b[0;34m.\u001b[0m\u001b[0mrandrange\u001b[0m\u001b[0;34m(\u001b[0m\u001b[0ma\u001b[0m\u001b[0;34m,\u001b[0m \u001b[0mb\u001b[0m\u001b[0;34m+\u001b[0m\u001b[0;36m1\u001b[0m\u001b[0;34m)\u001b[0m\u001b[0;34m\u001b[0m\u001b[0;34m\u001b[0m\u001b[0m\n\u001b[0m\u001b[1;32m    337\u001b[0m \u001b[0;34m\u001b[0m\u001b[0m\n\u001b[1;32m    338\u001b[0m \u001b[0;34m\u001b[0m\u001b[0m\n",
            "\u001b[0;32m/usr/lib/python3.12/random.py\u001b[0m in \u001b[0;36mrandrange\u001b[0;34m(self, start, stop, step)\u001b[0m\n\u001b[1;32m    310\u001b[0m \u001b[0;34m\u001b[0m\u001b[0m\n\u001b[1;32m    311\u001b[0m         \u001b[0;31m# Stop argument supplied.\u001b[0m\u001b[0;34m\u001b[0m\u001b[0;34m\u001b[0m\u001b[0m\n\u001b[0;32m--> 312\u001b[0;31m         \u001b[0mistop\u001b[0m \u001b[0;34m=\u001b[0m \u001b[0m_index\u001b[0m\u001b[0;34m(\u001b[0m\u001b[0mstop\u001b[0m\u001b[0;34m)\u001b[0m\u001b[0;34m\u001b[0m\u001b[0;34m\u001b[0m\u001b[0m\n\u001b[0m\u001b[1;32m    313\u001b[0m         \u001b[0mwidth\u001b[0m \u001b[0;34m=\u001b[0m \u001b[0mistop\u001b[0m \u001b[0;34m-\u001b[0m \u001b[0mistart\u001b[0m\u001b[0;34m\u001b[0m\u001b[0;34m\u001b[0m\u001b[0m\n\u001b[1;32m    314\u001b[0m         \u001b[0mistep\u001b[0m \u001b[0;34m=\u001b[0m \u001b[0m_index\u001b[0m\u001b[0;34m(\u001b[0m\u001b[0mstep\u001b[0m\u001b[0;34m)\u001b[0m\u001b[0;34m\u001b[0m\u001b[0;34m\u001b[0m\u001b[0m\n",
            "\u001b[0;31mTypeError\u001b[0m: 'float' object cannot be interpreted as an integer"
          ]
        }
      ]
    },
    {
      "cell_type": "code",
      "metadata": {
        "id": "HWaQyteV7EX8",
        "colab": {
          "base_uri": "https://localhost:8080/"
        },
        "outputId": "172129b8-0992-43c3-be96-4e340c1c7cfd"
      },
      "source": [
        "print(len(skip_grams))"
      ],
      "execution_count": null,
      "outputs": [
        {
          "output_type": "stream",
          "name": "stdout",
          "text": [
            "10\n"
          ]
        }
      ]
    },
    {
      "cell_type": "code",
      "metadata": {
        "id": "Evk-a7Ej7FjF",
        "colab": {
          "base_uri": "https://localhost:8080/"
        },
        "outputId": "88e6999a-9bd7-4007-918f-9400d6da5635"
      },
      "source": [
        "# 첫번째 뉴스그룹 샘플에 대해서 생긴 pairs와 labels의 개수\n",
        "print(len(pairs))\n",
        "print(len(labels))"
      ],
      "execution_count": null,
      "outputs": [
        {
          "output_type": "stream",
          "name": "stdout",
          "text": [
            "2220\n",
            "2220\n"
          ]
        }
      ]
    },
    {
      "cell_type": "code",
      "metadata": {
        "id": "bzaa4pXV7IjN"
      },
      "source": [
        "# 위의 작업을 모든 뉴스그룹 샘플에 대해서 수행합니다. (3분 정도 소요)\n",
        "skip_grams = [skipgrams(sample, vocabulary_size=vocab_size, window_size=10) for sample in encoded]"
      ],
      "execution_count": null,
      "outputs": []
    },
    {
      "cell_type": "markdown",
      "metadata": {
        "id": "WjZzZGfcFfD8"
      },
      "source": [
        "# 2. Skip-Gram with Negative Sampling(SGNS) 구현하기"
      ]
    },
    {
      "cell_type": "code",
      "metadata": {
        "id": "N9mZQEjxFlFK"
      },
      "source": [
        "from tensorflow.keras.models import Sequential, Model\n",
        "from tensorflow.keras.layers import Embedding, Reshape, Activation, Input\n",
        "from tensorflow.keras.layers import Dot\n",
        "from tensorflow.keras.utils import plot_model\n",
        "from IPython.display import SVG"
      ],
      "execution_count": null,
      "outputs": []
    },
    {
      "cell_type": "code",
      "metadata": {
        "id": "y4YLPMJzF-R1"
      },
      "source": [
        "# 하이퍼파라미터인 임베딩 벡터의 차원은 100으로 정함\n",
        "embedding_dim = 100"
      ],
      "execution_count": null,
      "outputs": []
    },
    {
      "cell_type": "code",
      "metadata": {
        "id": "R_nmYoBSF750"
      },
      "source": [
        "# 두 개의 임베딩 층을 추가합니다.\n",
        "# 중심 단어를 위한 임베딩 테이블\n",
        "w_inputs = Input(shape=(1, ), dtype='int32')\n",
        "word_embedding = Embedding(vocab_size, embedding_dim)(w_inputs)\n",
        "\n",
        "# 주변 단어를 위한 임베딩 테이블\n",
        "c_inputs = Input(shape=(1, ), dtype='int32')\n",
        "context_embedding  = Embedding(vocab_size, embedding_dim)(c_inputs)"
      ],
      "execution_count": null,
      "outputs": []
    },
    {
      "cell_type": "code",
      "metadata": {
        "id": "sYNFTL3NGGfG"
      },
      "source": [
        "# 각 임베딩 테이블은 중심 단어와 주변 단어 각각을 위한 임베딩 테이블이며,\n",
        "# 각 단어는 임베딩 테이블을 거쳐서 내적을 수행하고,\n",
        "# 내적의 결과는 1 또는 0을 예측하기 위해서 시그모이드 함수를 활성화 함수로 거쳐 최종 예측값을 얻습니다.\n",
        "\n",
        "dot_product = Dot(axes=2)([word_embedding, context_embedding])\n",
        "dot_product = Reshape((1,), input_shape=(1, 1))(dot_product)\n",
        "output = Activation('sigmoid')(dot_product)"
      ],
      "execution_count": null,
      "outputs": []
    },
    {
      "cell_type": "code",
      "metadata": {
        "colab": {
          "base_uri": "https://localhost:8080/",
          "height": 971
        },
        "id": "Z86_CursGH2T",
        "outputId": "9dd74f0d-7106-406d-ac18-8aa2793d8fa1"
      },
      "source": [
        "model = Model(inputs=[w_inputs, c_inputs], outputs=output)\n",
        "model.summary()\n",
        "model.compile(loss='binary_crossentropy', optimizer='adam')\n",
        "plot_model(model, to_file='skip_gram.png', show_shapes=True, show_layer_names=True, rankdir='TB')"
      ],
      "execution_count": null,
      "outputs": [
        {
          "output_type": "stream",
          "name": "stdout",
          "text": [
            "Model: \"model\"\n",
            "__________________________________________________________________________________________________\n",
            " Layer (type)                Output Shape                 Param #   Connected to                  \n",
            "==================================================================================================\n",
            " input_1 (InputLayer)        [(None, 1)]                  0         []                            \n",
            "                                                                                                  \n",
            " input_2 (InputLayer)        [(None, 1)]                  0         []                            \n",
            "                                                                                                  \n",
            " embedding (Embedding)       (None, 1, 100)               6427700   ['input_1[0][0]']             \n",
            "                                                                                                  \n",
            " embedding_1 (Embedding)     (None, 1, 100)               6427700   ['input_2[0][0]']             \n",
            "                                                                                                  \n",
            " dot (Dot)                   (None, 1, 1)                 0         ['embedding[0][0]',           \n",
            "                                                                     'embedding_1[0][0]']         \n",
            "                                                                                                  \n",
            " reshape (Reshape)           (None, 1)                    0         ['dot[0][0]']                 \n",
            "                                                                                                  \n",
            " activation (Activation)     (None, 1)                    0         ['reshape[0][0]']             \n",
            "                                                                                                  \n",
            "==================================================================================================\n",
            "Total params: 12855400 (49.04 MB)\n",
            "Trainable params: 12855400 (49.04 MB)\n",
            "Non-trainable params: 0 (0.00 Byte)\n",
            "__________________________________________________________________________________________________\n"
          ]
        },
        {
          "output_type": "execute_result",
          "data": {
            "image/png": "[encoded data removed]",
            "text/plain": [
              "<IPython.core.display.Image object>"
            ]
          },
          "metadata": {},
          "execution_count": 32
        }
      ]
    },
    {
      "cell_type": "code",
      "metadata": {
        "id": "zIw7eIquGNjL",
        "colab": {
          "base_uri": "https://localhost:8080/",
          "height": 408
        },
        "outputId": "ef79d440-f780-4a06-d829-886b1fdc648d"
      },
      "source": [
        "# 모델의 학습은 5에포크 수행 (주의!!: 시간이 상당히 소요됨)\n",
        "for epoch in range(1, 6):\n",
        "    loss = 0\n",
        "    for _, elem in enumerate(skip_grams):\n",
        "        first_elem = np.array(list(zip(*elem[0]))[0], dtype='int32')\n",
        "        second_elem = np.array(list(zip(*elem[0]))[1], dtype='int32')\n",
        "        labels = np.array(elem[1], dtype='int32')\n",
        "        X = [first_elem, second_elem]\n",
        "        Y = labels\n",
        "        loss += model.train_on_batch(X,Y)\n",
        "    print('Epoch :',epoch, 'Loss :',loss)"
      ],
      "execution_count": null,
      "outputs": [
        {
          "output_type": "error",
          "ename": "KeyboardInterrupt",
          "evalue": "ignored",
          "traceback": [
            "\u001b[0;31m---------------------------------------------------------------------------\u001b[0m",
            "\u001b[0;31mKeyboardInterrupt\u001b[0m                         Traceback (most recent call last)",
            "\u001b[0;32m<ipython-input-33-89c6995a0634>\u001b[0m in \u001b[0;36m<cell line: 2>\u001b[0;34m()\u001b[0m\n\u001b[1;32m      8\u001b[0m         \u001b[0mX\u001b[0m \u001b[0;34m=\u001b[0m \u001b[0;34m[\u001b[0m\u001b[0mfirst_elem\u001b[0m\u001b[0;34m,\u001b[0m \u001b[0msecond_elem\u001b[0m\u001b[0;34m]\u001b[0m\u001b[0;34m\u001b[0m\u001b[0;34m\u001b[0m\u001b[0m\n\u001b[1;32m      9\u001b[0m         \u001b[0mY\u001b[0m \u001b[0;34m=\u001b[0m \u001b[0mlabels\u001b[0m\u001b[0;34m\u001b[0m\u001b[0;34m\u001b[0m\u001b[0m\n\u001b[0;32m---> 10\u001b[0;31m         \u001b[0mloss\u001b[0m \u001b[0;34m+=\u001b[0m \u001b[0mmodel\u001b[0m\u001b[0;34m.\u001b[0m\u001b[0mtrain_on_batch\u001b[0m\u001b[0;34m(\u001b[0m\u001b[0mX\u001b[0m\u001b[0;34m,\u001b[0m\u001b[0mY\u001b[0m\u001b[0;34m)\u001b[0m\u001b[0;34m\u001b[0m\u001b[0;34m\u001b[0m\u001b[0m\n\u001b[0m\u001b[1;32m     11\u001b[0m     \u001b[0mprint\u001b[0m\u001b[0;34m(\u001b[0m\u001b[0;34m'Epoch :'\u001b[0m\u001b[0;34m,\u001b[0m\u001b[0mepoch\u001b[0m\u001b[0;34m,\u001b[0m \u001b[0;34m'Loss :'\u001b[0m\u001b[0;34m,\u001b[0m\u001b[0mloss\u001b[0m\u001b[0;34m)\u001b[0m\u001b[0;34m\u001b[0m\u001b[0;34m\u001b[0m\u001b[0m\n",
            "\u001b[0;32m/usr/local/lib/python3.10/dist-packages/keras/src/engine/training.py\u001b[0m in \u001b[0;36mtrain_on_batch\u001b[0;34m(self, x, y, sample_weight, class_weight, reset_metrics, return_dict)\u001b[0m\n\u001b[1;32m   2682\u001b[0m             )\n\u001b[1;32m   2683\u001b[0m             \u001b[0mself\u001b[0m\u001b[0;34m.\u001b[0m\u001b[0mtrain_function\u001b[0m \u001b[0;34m=\u001b[0m \u001b[0mself\u001b[0m\u001b[0;34m.\u001b[0m\u001b[0mmake_train_function\u001b[0m\u001b[0;34m(\u001b[0m\u001b[0;34m)\u001b[0m\u001b[0;34m\u001b[0m\u001b[0;34m\u001b[0m\u001b[0m\n\u001b[0;32m-> 2684\u001b[0;31m             \u001b[0mlogs\u001b[0m \u001b[0;34m=\u001b[0m \u001b[0mself\u001b[0m\u001b[0;34m.\u001b[0m\u001b[0mtrain_function\u001b[0m\u001b[0;34m(\u001b[0m\u001b[0miterator\u001b[0m\u001b[0;34m)\u001b[0m\u001b[0;34m\u001b[0m\u001b[0;34m\u001b[0m\u001b[0m\n\u001b[0m\u001b[1;32m   2685\u001b[0m \u001b[0;34m\u001b[0m\u001b[0m\n\u001b[1;32m   2686\u001b[0m         \u001b[0mlogs\u001b[0m \u001b[0;34m=\u001b[0m \u001b[0mtf_utils\u001b[0m\u001b[0;34m.\u001b[0m\u001b[0msync_to_numpy_or_python_type\u001b[0m\u001b[0;34m(\u001b[0m\u001b[0mlogs\u001b[0m\u001b[0;34m)\u001b[0m\u001b[0;34m\u001b[0m\u001b[0;34m\u001b[0m\u001b[0m\n",
            "\u001b[0;32m/usr/local/lib/python3.10/dist-packages/tensorflow/python/util/traceback_utils.py\u001b[0m in \u001b[0;36merror_handler\u001b[0;34m(*args, **kwargs)\u001b[0m\n\u001b[1;32m    148\u001b[0m     \u001b[0mfiltered_tb\u001b[0m \u001b[0;34m=\u001b[0m \u001b[0;32mNone\u001b[0m\u001b[0;34m\u001b[0m\u001b[0;34m\u001b[0m\u001b[0m\n\u001b[1;32m    149\u001b[0m     \u001b[0;32mtry\u001b[0m\u001b[0;34m:\u001b[0m\u001b[0;34m\u001b[0m\u001b[0;34m\u001b[0m\u001b[0m\n\u001b[0;32m--> 150\u001b[0;31m       \u001b[0;32mreturn\u001b[0m \u001b[0mfn\u001b[0m\u001b[0;34m(\u001b[0m\u001b[0;34m*\u001b[0m\u001b[0margs\u001b[0m\u001b[0;34m,\u001b[0m \u001b[0;34m**\u001b[0m\u001b[0mkwargs\u001b[0m\u001b[0;34m)\u001b[0m\u001b[0;34m\u001b[0m\u001b[0;34m\u001b[0m\u001b[0m\n\u001b[0m\u001b[1;32m    151\u001b[0m     \u001b[0;32mexcept\u001b[0m \u001b[0mException\u001b[0m \u001b[0;32mas\u001b[0m \u001b[0me\u001b[0m\u001b[0;34m:\u001b[0m\u001b[0;34m\u001b[0m\u001b[0;34m\u001b[0m\u001b[0m\n\u001b[1;32m    152\u001b[0m       \u001b[0mfiltered_tb\u001b[0m \u001b[0;34m=\u001b[0m \u001b[0m_process_traceback_frames\u001b[0m\u001b[0;34m(\u001b[0m\u001b[0me\u001b[0m\u001b[0;34m.\u001b[0m\u001b[0m__traceback__\u001b[0m\u001b[0;34m)\u001b[0m\u001b[0;34m\u001b[0m\u001b[0;34m\u001b[0m\u001b[0m\n",
            "\u001b[0;32m/usr/local/lib/python3.10/dist-packages/tensorflow/python/eager/polymorphic_function/polymorphic_function.py\u001b[0m in \u001b[0;36m__call__\u001b[0;34m(self, *args, **kwds)\u001b[0m\n\u001b[1;32m    823\u001b[0m \u001b[0;34m\u001b[0m\u001b[0m\n\u001b[1;32m    824\u001b[0m       \u001b[0;32mwith\u001b[0m \u001b[0mOptionalXlaContext\u001b[0m\u001b[0;34m(\u001b[0m\u001b[0mself\u001b[0m\u001b[0;34m.\u001b[0m\u001b[0m_jit_compile\u001b[0m\u001b[0;34m)\u001b[0m\u001b[0;34m:\u001b[0m\u001b[0;34m\u001b[0m\u001b[0;34m\u001b[0m\u001b[0m\n\u001b[0;32m--> 825\u001b[0;31m         \u001b[0mresult\u001b[0m \u001b[0;34m=\u001b[0m \u001b[0mself\u001b[0m\u001b[0;34m.\u001b[0m\u001b[0m_call\u001b[0m\u001b[0;34m(\u001b[0m\u001b[0;34m*\u001b[0m\u001b[0margs\u001b[0m\u001b[0;34m,\u001b[0m \u001b[0;34m**\u001b[0m\u001b[0mkwds\u001b[0m\u001b[0;34m)\u001b[0m\u001b[0;34m\u001b[0m\u001b[0;34m\u001b[0m\u001b[0m\n\u001b[0m\u001b[1;32m    826\u001b[0m \u001b[0;34m\u001b[0m\u001b[0m\n\u001b[1;32m    827\u001b[0m       \u001b[0mnew_tracing_count\u001b[0m \u001b[0;34m=\u001b[0m \u001b[0mself\u001b[0m\u001b[0;34m.\u001b[0m\u001b[0mexperimental_get_tracing_count\u001b[0m\u001b[0;34m(\u001b[0m\u001b[0;34m)\u001b[0m\u001b[0;34m\u001b[0m\u001b[0;34m\u001b[0m\u001b[0m\n",
            "\u001b[0;32m/usr/local/lib/python3.10/dist-packages/tensorflow/python/eager/polymorphic_function/polymorphic_function.py\u001b[0m in \u001b[0;36m_call\u001b[0;34m(self, *args, **kwds)\u001b[0m\n\u001b[1;32m    855\u001b[0m       \u001b[0;31m# In this case we have created variables on the first call, so we run the\u001b[0m\u001b[0;34m\u001b[0m\u001b[0;34m\u001b[0m\u001b[0m\n\u001b[1;32m    856\u001b[0m       \u001b[0;31m# defunned version which is guaranteed to never create variables.\u001b[0m\u001b[0;34m\u001b[0m\u001b[0;34m\u001b[0m\u001b[0m\n\u001b[0;32m--> 857\u001b[0;31m       \u001b[0;32mreturn\u001b[0m \u001b[0mself\u001b[0m\u001b[0;34m.\u001b[0m\u001b[0m_no_variable_creation_fn\u001b[0m\u001b[0;34m(\u001b[0m\u001b[0;34m*\u001b[0m\u001b[0margs\u001b[0m\u001b[0;34m,\u001b[0m \u001b[0;34m**\u001b[0m\u001b[0mkwds\u001b[0m\u001b[0;34m)\u001b[0m  \u001b[0;31m# pylint: disable=not-callable\u001b[0m\u001b[0;34m\u001b[0m\u001b[0;34m\u001b[0m\u001b[0m\n\u001b[0m\u001b[1;32m    858\u001b[0m     \u001b[0;32melif\u001b[0m \u001b[0mself\u001b[0m\u001b[0;34m.\u001b[0m\u001b[0m_variable_creation_fn\u001b[0m \u001b[0;32mis\u001b[0m \u001b[0;32mnot\u001b[0m \u001b[0;32mNone\u001b[0m\u001b[0;34m:\u001b[0m\u001b[0;34m\u001b[0m\u001b[0;34m\u001b[0m\u001b[0m\n\u001b[1;32m    859\u001b[0m       \u001b[0;31m# Release the lock early so that multiple threads can perform the call\u001b[0m\u001b[0;34m\u001b[0m\u001b[0;34m\u001b[0m\u001b[0m\n",
            "\u001b[0;32m/usr/local/lib/python3.10/dist-packages/tensorflow/python/eager/polymorphic_function/tracing_compiler.py\u001b[0m in \u001b[0;36m__call__\u001b[0;34m(self, *args, **kwargs)\u001b[0m\n\u001b[1;32m    146\u001b[0m       (concrete_function,\n\u001b[1;32m    147\u001b[0m        filtered_flat_args) = self._maybe_define_function(args, kwargs)\n\u001b[0;32m--> 148\u001b[0;31m     return concrete_function._call_flat(\n\u001b[0m\u001b[1;32m    149\u001b[0m         filtered_flat_args, captured_inputs=concrete_function.captured_inputs)  # pylint: disable=protected-access\n\u001b[1;32m    150\u001b[0m \u001b[0;34m\u001b[0m\u001b[0m\n",
            "\u001b[0;32m/usr/local/lib/python3.10/dist-packages/tensorflow/python/eager/polymorphic_function/monomorphic_function.py\u001b[0m in \u001b[0;36m_call_flat\u001b[0;34m(self, args, captured_inputs)\u001b[0m\n\u001b[1;32m   1347\u001b[0m         and executing_eagerly):\n\u001b[1;32m   1348\u001b[0m       \u001b[0;31m# No tape is watching; skip to running the function.\u001b[0m\u001b[0;34m\u001b[0m\u001b[0;34m\u001b[0m\u001b[0m\n\u001b[0;32m-> 1349\u001b[0;31m       \u001b[0;32mreturn\u001b[0m \u001b[0mself\u001b[0m\u001b[0;34m.\u001b[0m\u001b[0m_build_call_outputs\u001b[0m\u001b[0;34m(\u001b[0m\u001b[0mself\u001b[0m\u001b[0;34m.\u001b[0m\u001b[0m_inference_function\u001b[0m\u001b[0;34m(\u001b[0m\u001b[0;34m*\u001b[0m\u001b[0margs\u001b[0m\u001b[0;34m)\u001b[0m\u001b[0;34m)\u001b[0m\u001b[0;34m\u001b[0m\u001b[0;34m\u001b[0m\u001b[0m\n\u001b[0m\u001b[1;32m   1350\u001b[0m     forward_backward = self._select_forward_and_backward_functions(\n\u001b[1;32m   1351\u001b[0m         \u001b[0margs\u001b[0m\u001b[0;34m,\u001b[0m\u001b[0;34m\u001b[0m\u001b[0;34m\u001b[0m\u001b[0m\n",
            "\u001b[0;32m/usr/local/lib/python3.10/dist-packages/tensorflow/python/eager/polymorphic_function/atomic_function.py\u001b[0m in \u001b[0;36m__call__\u001b[0;34m(self, *args)\u001b[0m\n\u001b[1;32m    194\u001b[0m         \u001b[0;32mwith\u001b[0m \u001b[0mrecord\u001b[0m\u001b[0;34m.\u001b[0m\u001b[0mstop_recording\u001b[0m\u001b[0;34m(\u001b[0m\u001b[0;34m)\u001b[0m\u001b[0;34m:\u001b[0m\u001b[0;34m\u001b[0m\u001b[0;34m\u001b[0m\u001b[0m\n\u001b[1;32m    195\u001b[0m           \u001b[0;32mif\u001b[0m \u001b[0mself\u001b[0m\u001b[0;34m.\u001b[0m\u001b[0m_bound_context\u001b[0m\u001b[0;34m.\u001b[0m\u001b[0mexecuting_eagerly\u001b[0m\u001b[0;34m(\u001b[0m\u001b[0;34m)\u001b[0m\u001b[0;34m:\u001b[0m\u001b[0;34m\u001b[0m\u001b[0;34m\u001b[0m\u001b[0m\n\u001b[0;32m--> 196\u001b[0;31m             outputs = self._bound_context.call_function(\n\u001b[0m\u001b[1;32m    197\u001b[0m                 \u001b[0mself\u001b[0m\u001b[0;34m.\u001b[0m\u001b[0mname\u001b[0m\u001b[0;34m,\u001b[0m\u001b[0;34m\u001b[0m\u001b[0;34m\u001b[0m\u001b[0m\n\u001b[1;32m    198\u001b[0m                 \u001b[0mlist\u001b[0m\u001b[0;34m(\u001b[0m\u001b[0margs\u001b[0m\u001b[0;34m)\u001b[0m\u001b[0;34m,\u001b[0m\u001b[0;34m\u001b[0m\u001b[0;34m\u001b[0m\u001b[0m\n",
            "\u001b[0;32m/usr/local/lib/python3.10/dist-packages/tensorflow/python/eager/context.py\u001b[0m in \u001b[0;36mcall_function\u001b[0;34m(self, name, tensor_inputs, num_outputs)\u001b[0m\n\u001b[1;32m   1455\u001b[0m     \u001b[0mcancellation_context\u001b[0m \u001b[0;34m=\u001b[0m \u001b[0mcancellation\u001b[0m\u001b[0;34m.\u001b[0m\u001b[0mcontext\u001b[0m\u001b[0;34m(\u001b[0m\u001b[0;34m)\u001b[0m\u001b[0;34m\u001b[0m\u001b[0;34m\u001b[0m\u001b[0m\n\u001b[1;32m   1456\u001b[0m     \u001b[0;32mif\u001b[0m \u001b[0mcancellation_context\u001b[0m \u001b[0;32mis\u001b[0m \u001b[0;32mNone\u001b[0m\u001b[0;34m:\u001b[0m\u001b[0;34m\u001b[0m\u001b[0;34m\u001b[0m\u001b[0m\n\u001b[0;32m-> 1457\u001b[0;31m       outputs = execute.execute(\n\u001b[0m\u001b[1;32m   1458\u001b[0m           \u001b[0mname\u001b[0m\u001b[0;34m.\u001b[0m\u001b[0mdecode\u001b[0m\u001b[0;34m(\u001b[0m\u001b[0;34m\"utf-8\"\u001b[0m\u001b[0;34m)\u001b[0m\u001b[0;34m,\u001b[0m\u001b[0;34m\u001b[0m\u001b[0;34m\u001b[0m\u001b[0m\n\u001b[1;32m   1459\u001b[0m           \u001b[0mnum_outputs\u001b[0m\u001b[0;34m=\u001b[0m\u001b[0mnum_outputs\u001b[0m\u001b[0;34m,\u001b[0m\u001b[0;34m\u001b[0m\u001b[0;34m\u001b[0m\u001b[0m\n",
            "\u001b[0;32m/usr/local/lib/python3.10/dist-packages/tensorflow/python/eager/execute.py\u001b[0m in \u001b[0;36mquick_execute\u001b[0;34m(op_name, num_outputs, inputs, attrs, ctx, name)\u001b[0m\n\u001b[1;32m     51\u001b[0m   \u001b[0;32mtry\u001b[0m\u001b[0;34m:\u001b[0m\u001b[0;34m\u001b[0m\u001b[0;34m\u001b[0m\u001b[0m\n\u001b[1;32m     52\u001b[0m     \u001b[0mctx\u001b[0m\u001b[0;34m.\u001b[0m\u001b[0mensure_initialized\u001b[0m\u001b[0;34m(\u001b[0m\u001b[0;34m)\u001b[0m\u001b[0;34m\u001b[0m\u001b[0;34m\u001b[0m\u001b[0m\n\u001b[0;32m---> 53\u001b[0;31m     tensors = pywrap_tfe.TFE_Py_Execute(ctx._handle, device_name, op_name,\n\u001b[0m\u001b[1;32m     54\u001b[0m                                         inputs, attrs, num_outputs)\n\u001b[1;32m     55\u001b[0m   \u001b[0;32mexcept\u001b[0m \u001b[0mcore\u001b[0m\u001b[0;34m.\u001b[0m\u001b[0m_NotOkStatusException\u001b[0m \u001b[0;32mas\u001b[0m \u001b[0me\u001b[0m\u001b[0;34m:\u001b[0m\u001b[0;34m\u001b[0m\u001b[0;34m\u001b[0m\u001b[0m\n",
            "\u001b[0;31mKeyboardInterrupt\u001b[0m: "
          ]
        }
      ]
    },
    {
      "cell_type": "markdown",
      "metadata": {
        "id": "vLZ2rDt1GQjY"
      },
      "source": [
        "# 3. 결과 확인하기"
      ]
    },
    {
      "cell_type": "code",
      "metadata": {
        "id": "-TXPsv0NGUIj"
      },
      "source": [
        "import gensim"
      ],
      "execution_count": null,
      "outputs": []
    },
    {
      "cell_type": "code",
      "metadata": {
        "id": "kpCk5Ut34HYC"
      },
      "source": [
        "# 학습된 임베딩 벡터들을 vector.txt에 저장합니다.\n",
        "f = open('vectors.txt' ,'w')\n",
        "f.write('{} {}\\n'.format(vocab_size-1, embedding_dim))\n",
        "vectors = model.get_weights()[0]\n",
        "for word, i in tokenizer.word_index.items():\n",
        "    f.write('{} {}\\n'.format(word, ' '.join(map(str, list(vectors[i, :])))))\n",
        "f.close()"
      ],
      "execution_count": null,
      "outputs": []
    },
    {
      "cell_type": "code",
      "metadata": {
        "id": "EILs91hd4Kea"
      },
      "source": [
        "# 저장된 임베딩 벡터를  gensim의 models.KeyedVectors.load_word2vec_format()으로 로드하면\n",
        "# 쉽게 단어 벡터 간 유사도를 구할 수 있습니다.\n",
        "w2v = gensim.models.KeyedVectors.load_word2vec_format('./vectors.txt', binary=False)"
      ],
      "execution_count": null,
      "outputs": []
    },
    {
      "cell_type": "code",
      "metadata": {
        "id": "tE36GGiX9vDc",
        "colab": {
          "base_uri": "https://localhost:8080/"
        },
        "outputId": "ef0c84dd-0acd-4c0d-815d-baef2d554a07"
      },
      "source": [
        "w2v.most_similar(positive=['disease'])"
      ],
      "execution_count": null,
      "outputs": [
        {
          "output_type": "execute_result",
          "data": {
            "text/plain": [
              "[('infection', 0.6822181940078735),\n",
              " ('patients', 0.6786915063858032),\n",
              " ('diseases', 0.6778280138969421),\n",
              " ('yeast', 0.637976348400116),\n",
              " ('lyme', 0.6234785318374634),\n",
              " ('lesions', 0.62334144115448),\n",
              " ('treat', 0.6229036450386047),\n",
              " ('nerve', 0.6226518750190735),\n",
              " ('quack', 0.6102176308631897),\n",
              " ('chronic', 0.6035628318786621)]"
            ]
          },
          "metadata": {},
          "execution_count": 49
        }
      ]
    },
    {
      "cell_type": "code",
      "metadata": {
        "id": "k6FiqwjobX8n",
        "colab": {
          "base_uri": "https://localhost:8080/"
        },
        "outputId": "1f631a3d-29f0-4b93-94be-972cb9f3751d"
      },
      "source": [
        "w2v.most_similar(positive=['soldiers'])"
      ],
      "execution_count": null,
      "outputs": [
        {
          "output_type": "execute_result",
          "data": {
            "text/plain": [
              "[('wounded', 0.7870566248893738),\n",
              " ('hamas', 0.780727744102478),\n",
              " ('slaughter', 0.778682291507721),\n",
              " ('massacred', 0.7761104702949524),\n",
              " ('palestinians', 0.7727225422859192),\n",
              " ('villages', 0.7700804471969604),\n",
              " ('shelling', 0.7644733190536499),\n",
              " ('occupation', 0.7623903751373291),\n",
              " ('terrorist', 0.7594828009605408),\n",
              " ('killed', 0.7571672201156616)]"
            ]
          },
          "metadata": {},
          "execution_count": 51
        }
      ]
    },
    {
      "cell_type": "code",
      "metadata": {
        "id": "CIZpxu_79wWU",
        "colab": {
          "base_uri": "https://localhost:8080/"
        },
        "outputId": "04670189-e16e-40ae-af11-3762fb284667"
      },
      "source": [
        "w2v.most_similar(positive=['police'])"
      ],
      "execution_count": null,
      "outputs": [
        {
          "output_type": "execute_result",
          "data": {
            "text/plain": [
              "[('officers', 0.5940332412719727),\n",
              " ('demand', 0.5538086295127869),\n",
              " ('investigation', 0.5475316047668457),\n",
              " ('permit', 0.5427597761154175),\n",
              " ('homes', 0.5251521468162537),\n",
              " ('intifada', 0.5153162479400635),\n",
              " ('switzerland', 0.5054680109024048),\n",
              " ('handguns', 0.5039469003677368),\n",
              " ('funds', 0.49640247225761414),\n",
              " ('treasury', 0.49368804693222046)]"
            ]
          },
          "metadata": {},
          "execution_count": 50
        }
      ]
    },
    {
      "cell_type": "code",
      "metadata": {
        "id": "jHhfL_JtfU_R",
        "colab": {
          "base_uri": "https://localhost:8080/"
        },
        "outputId": "fbe976f9-d01b-41c1-d5c7-39c445113aa9"
      },
      "source": [
        "w2v.most_similar(positive=['hero'])"
      ],
      "execution_count": null,
      "outputs": [
        {
          "output_type": "execute_result",
          "data": {
            "text/plain": [
              "[('evident', 0.6241123676300049),\n",
              " ('treasury', 0.622967004776001),\n",
              " ('exercised', 0.6084901094436646),\n",
              " ('delegated', 0.6084328889846802),\n",
              " ('bloodshed', 0.605443000793457),\n",
              " ('restitution', 0.6043845415115356),\n",
              " ('gross', 0.6000478863716125),\n",
              " ('intervened', 0.5970805883407593),\n",
              " ('dashnaks', 0.594544529914856),\n",
              " ('verbally', 0.594032347202301)]"
            ]
          },
          "metadata": {},
          "execution_count": 52
        }
      ]
    },
    {
      "cell_type": "code",
      "metadata": {
        "id": "sExcUtpFt4Wm",
        "colab": {
          "base_uri": "https://localhost:8080/"
        },
        "outputId": "0ba5b036-ec49-4863-d920-20cefdc7bcd5"
      },
      "source": [
        "w2v.most_similar(positive=['engine'])"
      ],
      "execution_count": null,
      "outputs": [
        {
          "output_type": "execute_result",
          "data": {
            "text/plain": [
              "[('wheel', 0.5794666409492493),\n",
              " ('honda', 0.5051121711730957),\n",
              " ('metal', 0.48657843470573425),\n",
              " ('pickup', 0.48521116375923157),\n",
              " ('smaller', 0.4837951362133026),\n",
              " ('front', 0.4800146818161011),\n",
              " ('brake', 0.4778139591217041),\n",
              " ('steering', 0.4674001634120941),\n",
              " ('shafts', 0.46222877502441406),\n",
              " ('rebuilt', 0.4620116949081421)]"
            ]
          },
          "metadata": {},
          "execution_count": 53
        }
      ]
    },
    {
      "cell_type": "code",
      "metadata": {
        "id": "TErCpfXIuOZM",
        "colab": {
          "base_uri": "https://localhost:8080/"
        },
        "outputId": "0423aaf8-0b85-48d5-e78f-3d26313e7287"
      },
      "source": [
        "w2v.most_similar(positive=['doctor'])"
      ],
      "execution_count": null,
      "outputs": [
        {
          "output_type": "execute_result",
          "data": {
            "text/plain": [
              "[('pain', 0.6648697853088379),\n",
              " ('migraine', 0.632205605506897),\n",
              " ('prescription', 0.6129752397537231),\n",
              " ('spite', 0.5851105451583862),\n",
              " ('doctors', 0.5646334290504456),\n",
              " ('disease', 0.5567648410797119),\n",
              " ('mild', 0.5515984296798706),\n",
              " ('treatment', 0.5462743043899536),\n",
              " ('chronic', 0.5447998046875),\n",
              " ('quack', 0.5412765741348267)]"
            ]
          },
          "metadata": {},
          "execution_count": 54
        }
      ]
    }
  ]
}